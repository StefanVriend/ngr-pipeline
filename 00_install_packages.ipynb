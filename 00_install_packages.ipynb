{
 "cells": [
  {
   "cell_type": "markdown",
   "id": "a1a39183",
   "metadata": {},
   "source": [
    "---"
   ]
  },
  {
   "cell_type": "markdown",
   "id": "b1e57164",
   "metadata": {},
   "source": [
    "# Simplified access to Veluwe ecological data through OGC Web Services\n",
    "\n",
    "**Author:** Hudson Passos  \n",
    "**Internship host:** Netherlands Institute of Ecology (NIOO-KNAW)  \n",
    "**Host supervisor:** Stefan Vriend (NIOO-KNAW)  \n",
    "**WUR supervisor:** Liesbeth Bakker (WUR, NIOO-KNAW)  \n",
    "**Repository:** [research-project-internship-nioo](https://github.com/hudsonpassos/research-project-internship-nioo)  \n",
    "**Date:** July 18, 2025  \n",
    "**Python version:** 3.11.9  \n",
    "**License:** MIT  \n",
    "**Description:**  \n",
    "This notebook is part of a research internship project. It focuses on the automated selection, filtering, \n",
    "and preprocessing of open ecological geospatial datasets for the Veluwe region using OGC Web Services (WCS and WFS).\n"
   ]
  },
  {
   "cell_type": "markdown",
   "id": "0b3c5972",
   "metadata": {},
   "source": [
    "---"
   ]
  },
  {
   "cell_type": "markdown",
   "id": "6c5ddb90",
   "metadata": {},
   "source": [
    "# Installing necessary packages"
   ]
  },
  {
   "cell_type": "markdown",
   "id": "0cd6cd02",
   "metadata": {},
   "source": [
    "**Function**"
   ]
  },
  {
   "cell_type": "code",
   "execution_count": 5,
   "id": "9e95017d",
   "metadata": {},
   "outputs": [
    {
     "name": "stdout",
     "output_type": "stream",
     "text": [
      "Installing Pillow...\n",
      "Installing gdal...\n",
      "\n",
      "===== INSTALLATION REPORT =====\n",
      "\u001b[1mAlready Installed:\u001b[0m requests, rasterio, pandas, numpy, matplotlib, geopandas, tqdm, shapely, pyproj, owslib, lxml, fuzzywuzzy\n",
      "\u001b[1mInstalled Successfully:\u001b[0m Pillow, gdal\n",
      "\u001b[1mFailed to Install:\u001b[0m None\n"
     ]
    }
   ],
   "source": [
    "import importlib\n",
    "import subprocess\n",
    "import sys\n",
    "\n",
    "# Original imports list (cleaned)\n",
    "packages = [\n",
    "    \"requests\", \"rasterio\", \"pandas\", \"numpy\", \"matplotlib\", \"geopandas\",\n",
    "    \"tqdm\", \"shapely\", \"pyproj\", \"Pillow\", \"owslib\", \"gdal\", \"lxml\",\n",
    "    \"fuzzywuzzy\"\n",
    "]\n",
    "\n",
    "# Mapping for packages with different pip names\n",
    "pip_name_map = {\n",
    "    \"Pillow\": \"Pillow\",\n",
    "    \"fuzzywuzzy\": \"fuzzywuzzy[speedup]\"  # optional speedup\n",
    "}\n",
    "\n",
    "# Lists to store results\n",
    "already_installed = []\n",
    "installed_success = []\n",
    "failed_install = []\n",
    "\n",
    "# Check and install if needed\n",
    "for pkg in packages:\n",
    "    try:\n",
    "        importlib.import_module(pkg)\n",
    "        already_installed.append(pkg)\n",
    "    except ImportError:\n",
    "        pip_pkg = pip_name_map.get(pkg, pkg)\n",
    "        print(f\"Installing {pip_pkg}...\")\n",
    "        try:\n",
    "            result = subprocess.run(\n",
    "                [sys.executable, \"-m\", \"pip\", \"install\", pip_pkg],\n",
    "                capture_output=True,\n",
    "                text=True\n",
    "            )\n",
    "            if result.returncode == 0:\n",
    "                installed_success.append(pkg)\n",
    "            else:\n",
    "                failed_install.append(pkg)\n",
    "                print(f\"Failed to install {pkg}: {result.stderr}\")\n",
    "        except Exception as e:\n",
    "            failed_install.append(pkg)\n",
    "            print(f\"Error installing {pkg}: {e}\")\n",
    "\n",
    "# Print report\n",
    "print(\"\\n===== INSTALLATION REPORT =====\")\n",
    "print(f\"\\033[1mAlready Installed:\\033[0m {', '.join(already_installed) if already_installed else 'None'}\")\n",
    "print(f\"\\033[1mInstalled Successfully:\\033[0m {', '.join(installed_success) if installed_success else 'None'}\")\n",
    "print(f\"\\033[1mFailed to Install:\\033[0m {', '.join(failed_install) if failed_install else 'None'}\")\n"
   ]
  },
  {
   "cell_type": "markdown",
   "id": "61a60242",
   "metadata": {},
   "source": [
    "---"
   ]
  },
  {
   "cell_type": "markdown",
   "id": "a9e324a1",
   "metadata": {},
   "source": [
    "---"
   ]
  }
 ],
 "metadata": {
  "kernelspec": {
   "display_name": "Python 3 (ipykernel)",
   "language": "python",
   "name": "python3"
  },
  "language_info": {
   "codemirror_mode": {
    "name": "ipython",
    "version": 3
   },
   "file_extension": ".py",
   "mimetype": "text/x-python",
   "name": "python",
   "nbconvert_exporter": "python",
   "pygments_lexer": "ipython3",
   "version": "3.11.9"
  }
 },
 "nbformat": 4,
 "nbformat_minor": 5
}
