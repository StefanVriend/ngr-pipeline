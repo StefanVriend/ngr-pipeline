{
 "cells": [
  {
   "cell_type": "markdown",
   "id": "a1a39183",
   "metadata": {},
   "source": [
    "---"
   ]
  },
  {
   "cell_type": "markdown",
   "id": "b1e57164",
   "metadata": {},
   "source": [
    "# Simplified access to Veluwe ecological data through OGC Web Services\n",
    "\n",
    "**Author:** Hudson Passos  \n",
    "**Internship host:** Netherlands Institute of Ecology (NIOO-KNAW)  \n",
    "**Host supervisor:** Stefan Vriend (NIOO-KNAW)  \n",
    "**WUR supervisor:** Liesbeth Bakker (WUR, NIOO-KNAW)  \n",
    "**Repository:** [research-project-internship-nioo](https://github.com/hudsonpassos/research-project-internship-nioo)  \n",
    "**Date:** July 18, 2025  \n",
    "**Python version:** 3.11.9  \n",
    "**License:** MIT  \n",
    "**Description:**  \n",
    "This notebook is part of a research internship project. It focuses on the automated selection, filtering, \n",
    "and preprocessing of open ecological geospatial datasets for the Veluwe region using OGC Web Services (WCS and WFS).\n"
   ]
  },
  {
   "cell_type": "markdown",
   "id": "0b3c5972",
   "metadata": {},
   "source": [
    "---"
   ]
  },
  {
   "cell_type": "markdown",
   "id": "6c5ddb90",
   "metadata": {},
   "source": [
    "# **Part 3**: Spatial and semantic filters"
   ]
  },
  {
   "cell_type": "markdown",
   "id": "08636a00",
   "metadata": {},
   "source": [
    "### 1.1. Initialization: packages, paths, and spatial inputs"
   ]
  },
  {
   "cell_type": "markdown",
   "id": "0cd6cd02",
   "metadata": {},
   "source": [
    "**Packages**"
   ]
  },
  {
   "cell_type": "code",
   "execution_count": 52,
   "id": "3e0fa390",
   "metadata": {},
   "outputs": [],
   "source": [
    "import pandas as pd\n",
    "import geopandas as gpd\n",
    "import time\n",
    "from PIL import Image\n",
    "import os\n",
    "import numpy as np\n",
    "from tqdm import tqdm\n",
    "import matplotlib.pyplot as plt\n",
    "from owslib.csw import CatalogueServiceWeb\n",
    "from owslib.ows import ServiceIdentification\n",
    "import requests\n",
    "from lxml import etree\n",
    "import pandas as pd\n",
    "import re\n",
    "from fuzzywuzzy import fuzz\n",
    "from shapely.geometry import box\n",
    "import ast\n",
    "from shapely.geometry import Point, Polygon\n",
    "from shapely.ops import unary_union\n",
    "import rasterio\n",
    "import tempfile\n",
    "from urllib.parse import urlencode\n",
    "from urllib.parse import urlparse, urlunparse, urlencode"
   ]
  },
  {
   "cell_type": "markdown",
   "id": "add1f892",
   "metadata": {},
   "source": [
    "**Setting pathways**"
   ]
  },
  {
   "cell_type": "code",
   "execution_count": 53,
   "id": "b709a708",
   "metadata": {},
   "outputs": [],
   "source": [
    "root = \"C:/Users/hudso/OneDrive/Documents/02. WUR/11. INTERNSHIP\"\n",
    "outlines_path = os.path.join(root, \"02 data/outlines\")\n",
    "output_path = os.path.join(root, \"05 python_project/output\")"
   ]
  },
  {
   "cell_type": "markdown",
   "id": "a8c13676",
   "metadata": {},
   "source": [
    "**Loading data frames**"
   ]
  },
  {
   "cell_type": "code",
   "execution_count": 54,
   "id": "a9d80680",
   "metadata": {},
   "outputs": [],
   "source": [
    "df_wcs = pd.read_csv(\"checkpoint02_ngr_WCS_metadata.csv\")\n",
    "df_wfs = pd.read_csv(\"checkpoint02_ngr_WFS_metadata.csv\")"
   ]
  },
  {
   "cell_type": "markdown",
   "id": "be648b77",
   "metadata": {},
   "source": [
    "**Loading outlines**"
   ]
  },
  {
   "cell_type": "code",
   "execution_count": 55,
   "id": "e5061e91",
   "metadata": {},
   "outputs": [],
   "source": [
    "NLshp_path = os.path.join(outlines_path, \"ne_10m_admin_0_countries/ne_10m_NL.shp\")\n",
    "VELshp_path = os.path.join(outlines_path, \"nationaal_landschap/Veluwe_outline_simplified.shp\")\n",
    "WADshp_path = os.path.join(outlines_path, \"PKB_gebied_derde_nota_waddenzee.gpkg\")\n",
    "\n",
    "NLgdf = gpd.read_file(NLshp_path)\n",
    "VELgdf = gpd.read_file(VELshp_path)\n",
    "WADgdf = gpd.read_file(WADshp_path)\n",
    "\n",
    "# Filter Netherlands\n",
    "netherlands4326 = NLgdf[NLgdf[\"NAME\"] == \"Netherlands\"].to_crs(epsg=4326)\n",
    "netherlands28992 = NLgdf[NLgdf[\"NAME\"] == \"Netherlands\"].to_crs(epsg=28992)\n",
    "\n",
    "veluwe4326 = VELgdf.to_crs(epsg=4326)\n",
    "veluwe28992 = VELgdf.to_crs(epsg=28992)\n",
    "veluwe28992 = veluwe28992.dissolve()\n",
    "\n",
    "wadden4326 = WADgdf.to_crs(epsg=4326)\n",
    "wadden28992 = WADgdf.to_crs(epsg=28992)\n"
   ]
  },
  {
   "cell_type": "markdown",
   "id": "32ceeedb",
   "metadata": {},
   "source": [
    "**Function to make the outline square**"
   ]
  },
  {
   "cell_type": "code",
   "execution_count": 56,
   "id": "f574b072",
   "metadata": {},
   "outputs": [],
   "source": [
    "def get_square_bounds(gdf, target_epsg=28992):\n",
    "    \"\"\"\n",
    "    Computes a square bounding box centered on the original bounds of a GeoDataFrame.\n",
    "\n",
    "    Parameters:\n",
    "    - gdf: GeoDataFrame\n",
    "    - target_epsg: EPSG code to reproject the GeoDataFrame before computing bounds (default: 28992)\n",
    "\n",
    "    Returns:\n",
    "    - square_bounds: NumPy array [minx, miny, maxx, maxy] of the square bounding box\n",
    "    \"\"\"\n",
    "    # Project to desired CRS\n",
    "    gdf_proj = gdf.to_crs(epsg=target_epsg)\n",
    "\n",
    "    # Original bounds\n",
    "    minx, miny, maxx, maxy = gdf_proj.total_bounds\n",
    "\n",
    "    # Width and height\n",
    "    width = maxx - minx\n",
    "    height = maxy - miny\n",
    "\n",
    "    # Max side length\n",
    "    max_side = max(width, height)\n",
    "\n",
    "    # Center coordinates\n",
    "    center_x = (minx + maxx) / 2\n",
    "    center_y = (miny + maxy) / 2\n",
    "\n",
    "    # Square bounds\n",
    "    half_side = max_side / 2\n",
    "    square_bounds = np.array([\n",
    "        center_x - half_side,\n",
    "        center_y - half_side,\n",
    "        center_x + half_side,\n",
    "        center_y + half_side\n",
    "    ])\n",
    "\n",
    "    return square_bounds\n"
   ]
  },
  {
   "cell_type": "code",
   "execution_count": 57,
   "id": "9cd7c096",
   "metadata": {},
   "outputs": [],
   "source": [
    "square_bounds_VEL = get_square_bounds(VELgdf)\n",
    "square_bounds_WAD = get_square_bounds(WADgdf)"
   ]
  },
  {
   "cell_type": "markdown",
   "id": "9b62c5ca",
   "metadata": {},
   "source": [
    "**Plot**"
   ]
  },
  {
   "cell_type": "code",
   "execution_count": 58,
   "id": "526acb45",
   "metadata": {},
   "outputs": [
    {
     "data": {
      "image/png": "[encoded data removed]",
      "text/plain": [
       "<Figure size 800x800 with 1 Axes>"
      ]
     },
     "metadata": {},
     "output_type": "display_data"
    }
   ],
   "source": [
    "# Create a single figure and axis\n",
    "fig, ax = plt.subplots(figsize=(8, 8))\n",
    "\n",
    "# Plot Netherlands border\n",
    "netherlands28992.boundary.plot(ax=ax, color='black', linewidth=1)\n",
    "\n",
    "# Plot Wadden Zee border\n",
    "wadden28992.boundary.plot(ax=ax, color='blue', linewidth=1)\n",
    "\n",
    "bbox_polygon_WAD = box(*square_bounds_WAD)  # minx, miny, maxx, maxy\n",
    "bbox_gdf_WAD = gpd.GeoDataFrame(geometry=[bbox_polygon_WAD], crs=\"EPSG:28992\")\n",
    "bbox_gdf_WAD.boundary.plot(ax=ax, color='blue', linewidth=0.5)\n",
    "\n",
    "# Plot Veluwe border\n",
    "veluwe28992.boundary.plot(ax=ax, color='red', linewidth=1)\n",
    "\n",
    "bbox_polygon_VEL = box(*square_bounds_VEL)  # minx, miny, maxx, maxy\n",
    "bbox_gdf_VEL = gpd.GeoDataFrame(geometry=[bbox_polygon_VEL], crs=\"EPSG:28992\")\n",
    "bbox_gdf_VEL.boundary.plot(ax=ax, color='red', linewidth=0.5)\n",
    "\n",
    "# Optional: Add title or grid\n",
    "ax.set_title(\"Netherlands, Veluwe and Wadden Zee\")\n",
    "ax.grid(True, color='lightgray', linestyle='--', linewidth=0.5)\n",
    "\n",
    "plt.show()"
   ]
  },
  {
   "cell_type": "markdown",
   "id": "33d28237",
   "metadata": {},
   "source": [
    "### 1.2. Spatial filter 1:\n",
    "Checking the intersection between the input outline (e.g., Veluwe) using **bounding box** from metadata. "
   ]
  },
  {
   "cell_type": "code",
   "execution_count": 59,
   "id": "db23d314",
   "metadata": {},
   "outputs": [],
   "source": [
    "def transform_bbox_wgs84_to_28992(df, input_col, output_col):\n",
    "    \"\"\"\n",
    "    Converts bounding box strings in WGS84 to bounding boxes in EPSG:28992.\n",
    "\n",
    "    Parameters:\n",
    "    - df: pandas DataFrame\n",
    "    - input_col: name of the column containing bbox as strings (e.g. \"('5.033', '52.251', '5.852', '53.082')\")\n",
    "    - output_col: name of the new column to store bbox tuples in EPSG:28992\n",
    "\n",
    "    Returns:\n",
    "    - DataFrame with a new column containing transformed bbox as (minx, miny, maxx, maxy) in EPSG:28992\n",
    "    \"\"\"\n",
    "    transformed_bboxes = []\n",
    "\n",
    "    for bbox_str in df[input_col]:\n",
    "        try:\n",
    "            # Parse the string to tuple of floats\n",
    "            bbox_tuple = tuple(map(float, ast.literal_eval(bbox_str)))\n",
    "            minx, miny, maxx, maxy = bbox_tuple\n",
    "\n",
    "            # Create WGS84 geometry\n",
    "            gdf = gpd.GeoDataFrame(\n",
    "                geometry=[box(minx, miny, maxx, maxy)],\n",
    "                crs=\"EPSG:4326\"\n",
    "            )\n",
    "\n",
    "            # Transform to EPSG:28992\n",
    "            gdf_28992 = gdf.to_crs(epsg=28992)\n",
    "            transformed = gdf_28992.geometry.iloc[0].bounds  # (minx, miny, maxx, maxy)\n",
    "\n",
    "            transformed_bboxes.append(transformed)\n",
    "        except Exception as e:\n",
    "            transformed_bboxes.append(None)\n",
    "\n",
    "    df[output_col] = transformed_bboxes\n",
    "    return df\n"
   ]
  },
  {
   "cell_type": "code",
   "execution_count": 60,
   "id": "7bbe45eb",
   "metadata": {},
   "outputs": [],
   "source": [
    "def check_bbox_intersection_with_outline(outline_gdf, df, bbox_col, output_col=\"intersects_outline\"):\n",
    "    \"\"\"\n",
    "    Checks whether each bounding box in the given DataFrame intersects with the outline geometry.\n",
    "\n",
    "    Parameters:\n",
    "    - outline_gdf: GeoDataFrame with one or more geometries (in EPSG:28992)\n",
    "    - df: DataFrame with bounding boxes (as tuples) in EPSG:28992\n",
    "    - bbox_col: column in df that contains bounding boxes as tuples (minx, miny, maxx, maxy)\n",
    "    - output_col: name of output column with boolean intersection result\n",
    "\n",
    "    Returns:\n",
    "    - DataFrame with new boolean column indicating intersection\n",
    "    \"\"\"\n",
    "    # Ensure outline_gdf is valid and merged\n",
    "    outline_geom = outline_gdf.unary_union  # merge multipolygons if needed\n",
    "\n",
    "    results = []\n",
    "    for bbox in df[bbox_col]:\n",
    "        try:\n",
    "            if bbox is None:\n",
    "                results.append(False)\n",
    "                continue\n",
    "            bbox_geom = box(*bbox)\n",
    "            intersects = outline_geom.intersects(bbox_geom)\n",
    "            results.append(intersects)\n",
    "        except:\n",
    "            results.append(False)\n",
    "\n",
    "    df[output_col] = results\n",
    "    return df\n"
   ]
  },
  {
   "cell_type": "markdown",
   "id": "6bd780f2",
   "metadata": {},
   "source": [
    "**Transform bounding boxes from WGS84 to 28992:**"
   ]
  },
  {
   "cell_type": "code",
   "execution_count": 61,
   "id": "62f2ca6b",
   "metadata": {},
   "outputs": [],
   "source": [
    "df_wcs = transform_bbox_wgs84_to_28992(df=df_wcs, input_col=\"bounding_box\", output_col=\"bbox_28992\")\n",
    "df_wfs = transform_bbox_wgs84_to_28992(df=df_wfs, input_col=\"bounding_box\", output_col=\"bbox_28992\")"
   ]
  },
  {
   "cell_type": "markdown",
   "id": "6f9be833",
   "metadata": {},
   "source": [
    "**Check intersection between study area and data bounding box**"
   ]
  },
  {
   "cell_type": "code",
   "execution_count": 62,
   "id": "aa3cd00b",
   "metadata": {},
   "outputs": [],
   "source": [
    "df_wcs = check_bbox_intersection_with_outline(outline_gdf = veluwe28992, df = df_wcs, \n",
    "                                          bbox_col=\"bbox_28992\", output_col=\"intersects_outline_1\")\n",
    "\n",
    "df_wfs = check_bbox_intersection_with_outline(outline_gdf = veluwe28992, df = df_wfs, \n",
    "                                          bbox_col=\"bbox_28992\", output_col=\"intersects_outline_1\")"
   ]
  },
  {
   "cell_type": "code",
   "execution_count": 63,
   "id": "924633c2",
   "metadata": {},
   "outputs": [
    {
     "data": {
      "text/plain": [
       "intersects_outline_1\n",
       "True     658\n",
       "False    254\n",
       "Name: count, dtype: int64"
      ]
     },
     "execution_count": 63,
     "metadata": {},
     "output_type": "execute_result"
    }
   ],
   "source": [
    "df_wcs['intersects_outline_1'].value_counts()"
   ]
  },
  {
   "cell_type": "code",
   "execution_count": 64,
   "id": "ebd0ed49",
   "metadata": {},
   "outputs": [
    {
     "data": {
      "text/plain": [
       "intersects_outline_1\n",
       "False    2214\n",
       "True     2001\n",
       "Name: count, dtype: int64"
      ]
     },
     "execution_count": 64,
     "metadata": {},
     "output_type": "execute_result"
    }
   ],
   "source": [
    "df_wfs['intersects_outline_1'].value_counts()"
   ]
  },
  {
   "cell_type": "markdown",
   "id": "7e6a8025",
   "metadata": {},
   "source": [
    "**Filtering for Intersecting Data - 1**"
   ]
  },
  {
   "cell_type": "code",
   "execution_count": 65,
   "id": "446232b2",
   "metadata": {},
   "outputs": [],
   "source": [
    "df_wcs_sf1_clean = df_wcs[df_wcs['intersects_outline_1']==True]\n",
    "df_wfs_sf1_clean = df_wfs[df_wfs['intersects_outline_1']==True]"
   ]
  },
  {
   "cell_type": "code",
   "execution_count": 66,
   "id": "486bd725",
   "metadata": {},
   "outputs": [
    {
     "data": {
      "text/plain": [
       "(912, 658)"
      ]
     },
     "execution_count": 66,
     "metadata": {},
     "output_type": "execute_result"
    }
   ],
   "source": [
    "len(df_wcs),len(df_wcs_sf1_clean)"
   ]
  },
  {
   "cell_type": "code",
   "execution_count": 67,
   "id": "711ede82",
   "metadata": {},
   "outputs": [
    {
     "data": {
      "text/plain": [
       "(4215, 2001)"
      ]
     },
     "execution_count": 67,
     "metadata": {},
     "output_type": "execute_result"
    }
   ],
   "source": [
    "len(df_wfs),len(df_wfs_sf1_clean)"
   ]
  },
  {
   "cell_type": "markdown",
   "id": "4e98fce0",
   "metadata": {},
   "source": [
    "**Checkpoint 03a sf1:**"
   ]
  },
  {
   "cell_type": "code",
   "execution_count": 68,
   "id": "65530ff3",
   "metadata": {},
   "outputs": [],
   "source": [
    "# Saving\n",
    "df_wcs_sf1_clean.to_csv(\"checkpoint03_sf1_ngr_WCS_metadata.csv\", index=False)\n",
    "df_wfs_sf1_clean.to_csv(\"checkpoint03_sf1_ngr_WFS_metadata.csv\", index=False)"
   ]
  },
  {
   "cell_type": "markdown",
   "id": "efa955ec",
   "metadata": {},
   "source": [
    "### 1.3. Spatial filter 2:\n",
    "#### WCS:\n",
    "Inspecting presence of data within the input outline (e.g., Veluwe) using **very small bounding boxes** to check. "
   ]
  },
  {
   "cell_type": "markdown",
   "id": "839ccbf6",
   "metadata": {},
   "source": [
    "**Functions**"
   ]
  },
  {
   "cell_type": "code",
   "execution_count": 69,
   "id": "004bc0d2",
   "metadata": {},
   "outputs": [],
   "source": [
    "# Get centroids to check data inside study area:\n",
    "\n",
    "def centroids_from_polygon_radially_splitted(gdf, n_polygons=5, ray_length=1e6):\n",
    "    \"\"\"\n",
    "    Split a polygon into `n_polygons` radial wedges and return their centroids.\n",
    "\n",
    "    Parameters:\n",
    "    - gdf: GeoDataFrame with a single polygon (projected CRS, e.g., EPSG:28992)\n",
    "    - n_polygons: number of radial wedge-shaped polygons\n",
    "    - ray_length: length of the rays to ensure wedges intersect the polygon\n",
    "\n",
    "    Returns:\n",
    "    - GeoDataFrame of centroids, with 'part_id' column\n",
    "    \"\"\"\n",
    "    # Ensure a single merged polygon\n",
    "    polygon = unary_union(gdf.geometry)\n",
    "    centroid = polygon.centroid\n",
    "\n",
    "    angles = np.linspace(0, 2 * np.pi, n_polygons + 1)\n",
    "    wedges = []\n",
    "\n",
    "    for i in range(n_polygons):\n",
    "        angle_start = angles[i]\n",
    "        angle_end = angles[i+1]\n",
    "\n",
    "        outer1 = Point(centroid.x + ray_length * np.cos(angle_start),\n",
    "                       centroid.y + ray_length * np.sin(angle_start))\n",
    "        outer2 = Point(centroid.x + ray_length * np.cos(angle_end),\n",
    "                       centroid.y + ray_length * np.sin(angle_end))\n",
    "\n",
    "        wedge = Polygon([centroid, outer1, outer2])\n",
    "        clipped = polygon.intersection(wedge)\n",
    "        if not clipped.is_empty:\n",
    "            wedges.append(clipped)\n",
    "\n",
    "    # Build GeoDataFrame and extract centroids\n",
    "    wedges_gdf = gpd.GeoDataFrame({'part_id': range(1, len(wedges)+1),\n",
    "                                    'geometry': wedges}, crs=gdf.crs)\n",
    "    \n",
    "    # Extract centroids\n",
    "    centroids_gdf = wedges_gdf.copy()\n",
    "    centroids_gdf[\"geometry\"] = centroids_gdf.centroid\n",
    "\n",
    "    return centroids_gdf\n",
    "\n",
    "\n",
    "# From centroids, make small bboxes around it to detect data\n",
    "\n",
    "def parse_resolution(res_str):\n",
    "    try:\n",
    "        return float(ast.literal_eval(res_str)[0])\n",
    "    except:\n",
    "        return None\n",
    "\n",
    "def make_small_bboxes_from_centroids(centroids_gdf, series):\n",
    "    \n",
    "    # Filter to first valid downloadable row\n",
    "    if series.empty:\n",
    "        raise ValueError(\"No downloadable layer found in series.\")\n",
    "    \n",
    "    res = parse_resolution(series[\"spatial_resolution\"])\n",
    "    if res is None:\n",
    "        raise ValueError(\"Spatial resolution could not be parsed.\")\n",
    "\n",
    "    # Build list of bounding boxes around each centroid\n",
    "    bboxes = []\n",
    "    for point in centroids_gdf.geometry:\n",
    "        x, y = point.x, point.y\n",
    "        bbox = [x - res, y - res, x + res, y + res]\n",
    "        bboxes.append(bbox)\n",
    "    \n",
    "    return bboxes\n",
    "    \n",
    "def detect_data_in_bbox(df, bbox, counter):\n",
    "    \"\"\"\n",
    "    Downloads the raster for the given bbox and checks if it contains valid data.\n",
    "    Valid data = not NaN and between -1,000,000 and 1,000,000.\n",
    "    \"\"\"\n",
    "    #tqdm.write(f\"intersect: {counter['valid']} / total {counter['valid'] + counter['notvalid']}\")\n",
    "    if (counter[\"valid\"] + counter[\"notvalid\"]) % 10 == 0:\n",
    "        tqdm.write(f\"intersect: {counter['valid']} / total {counter['valid'] + counter['notvalid']}\")\n",
    "\n",
    "    row = df.copy()\n",
    "    layer = row[\"layer\"]\n",
    "    base_url = row[\"wcs_getcapabilities_url\"].split(\"?\")[0]\n",
    "    crs = \"EPSG:28992\"\n",
    "\n",
    "    # Get native resolution (X only)\n",
    "    res_csv = round(float(row['spatial_resolution'].strip('()').split(', ')[0]), 6)\n",
    "    \n",
    "    # Axis label helper\n",
    "    def get_axis_labels(wcs_base, cov_id):\n",
    "        import xml.etree.ElementTree as ET\n",
    "        ns = {\"gml\": \"http://www.opengis.net/gml/3.2\"}\n",
    "        try:\n",
    "            r = requests.get(wcs_base.replace(\"/ows\", \"/wcs\"), params={\n",
    "                \"service\": \"WCS\",\n",
    "                \"version\": \"2.0.1\",\n",
    "                \"request\": \"DescribeCoverage\",\n",
    "                \"coverageId\": cov_id\n",
    "            }, timeout=20)\n",
    "            r.raise_for_status()\n",
    "            root = ET.fromstring(r.content)\n",
    "            env = root.find(\".//gml:Envelope\", ns)\n",
    "            return env.attrib[\"axisLabels\"].split()\n",
    "        except Exception as e:\n",
    "            print(\"⚠️ Axis label fetch failed, using fallback:\", e)\n",
    "            return [\"x\", \"y\"]\n",
    "\n",
    "    x_label, y_label = get_axis_labels(base_url, layer)\n",
    "    #print(f\"ℹ️ Using axis labels: {x_label}, {y_label}\")\n",
    "\n",
    "    minx, miny, maxx, maxy = bbox\n",
    "\n",
    "    params = {\n",
    "        \"service\": \"WCS\",\n",
    "        \"version\": \"2.0.1\",\n",
    "        \"request\": \"GetCoverage\",\n",
    "        \"coverageId\": layer,\n",
    "        \"format\": \"image/tiff\",\n",
    "        \"subset\": [f\"{x_label}({minx},{maxx})\", f\"{y_label}({miny},{maxy})\"],\n",
    "        \"subsettingcrs\": crs,\n",
    "        \"outputcrs\": crs,\n",
    "        \"resx\": res_csv,\n",
    "        \"resy\": res_csv\n",
    "    }\n",
    "\n",
    "    #print(\"📡 Sending WCS request...\")\n",
    "    try:\n",
    "        r = requests.get(base_url, params=params, timeout=20)\n",
    "        #print(\"WCS Request URL:\", r.url)\n",
    "\n",
    "        if \"image\" not in r.headers.get(\"Content-Type\", \"\").lower():\n",
    "            #print(\"❌ No image in response — bbox has no data.\")\n",
    "            return False\n",
    "\n",
    "        with tempfile.NamedTemporaryFile(delete=False, suffix=\".tif\") as tmp_file:\n",
    "            tmp_file.write(r.content)\n",
    "            tmp_path = tmp_file.name\n",
    "\n",
    "        # Open with rasterio and inspect pixel values\n",
    "        with rasterio.open(tmp_path) as src:\n",
    "            data = src.read(1, masked=True)  # read first band as masked array\n",
    "\n",
    "        # Remove temp file\n",
    "        os.remove(tmp_path)\n",
    "\n",
    "        # Define valid value range\n",
    "        lower_bound = -1_000_000\n",
    "        upper_bound =  1_000_000\n",
    "\n",
    "        # Check for valid (non-NaN and within range) pixels\n",
    "        valid_pixels = np.ma.masked_invalid(data)\n",
    "        mask = (valid_pixels >= lower_bound) & (valid_pixels <= upper_bound)\n",
    "\n",
    "        if np.any(mask):\n",
    "            #print(\"✅ BBox contains valid data.\")\n",
    "            counter[\"valid\"] += 1\n",
    "            return True\n",
    "        else:\n",
    "            #print(\"❌ BBox has only invalid/extreme values.\")\n",
    "            counter[\"notvalid\"] += 1\n",
    "            return False\n",
    "\n",
    "    except requests.exceptions.ReadTimeout:\n",
    "        #print(\"⚠️ Request timed out — assuming it has data.\")\n",
    "        valid_count = valid_count + 1\n",
    "        return True\n",
    "    except Exception as e:\n",
    "        #print(f\"⚠️ Request or parsing failed: {e}\")\n",
    "        notvalid_count = notvalid_count + 1\n",
    "        return False\n",
    "    \n",
    "# Detect intersections:\n",
    "\n",
    "def detect_coverage_intersections(df, centroids_gdf):\n",
    "    \"\"\"\n",
    "    For each row in the DataFrame `df`, generate small bounding boxes around the centroids\n",
    "    and check whether at least one bounding box contains data from the WCS layer.\n",
    "\n",
    "    Adds a new boolean column `intersects_outline_2` to `df`.\n",
    "    \"\"\"\n",
    "    counter = {\"valid\": 0, \"notvalid\": 0}\n",
    "    \n",
    "    # Initialize the result column\n",
    "    df.loc[:, \"intersects_outline_2\"] = False\n",
    "\n",
    "    # Iterate with a progress bar\n",
    "    for idx in tqdm(df.index, desc=\"🔍 Checking WCS intersections\"):\n",
    "        try:\n",
    "            row = df.loc[idx]\n",
    "            bboxes = make_small_bboxes_from_centroids(centroids_gdf, row)\n",
    "            found = any(detect_data_in_bbox(row, bbox, counter) for bbox in bboxes)\n",
    "            df.at[idx, \"intersects_outline_2\"] = found\n",
    "        except Exception as e:\n",
    "            #print(f\"⚠️ Error on row {idx}: {e}\")\n",
    "            df.at[idx, \"intersects_outline_2\"] = False  # Optional: or leave as NaN\n",
    "\n",
    "    return df"
   ]
  },
  {
   "cell_type": "code",
   "execution_count": 70,
   "id": "6950ca12",
   "metadata": {},
   "outputs": [],
   "source": [
    "points = centroids_from_polygon_radially_splitted(gdf=veluwe28992, n_polygons=5, ray_length=1e6)\n",
    "#points.plot()"
   ]
  },
  {
   "cell_type": "code",
   "execution_count": 71,
   "id": "fb342e0c",
   "metadata": {
    "scrolled": true
   },
   "outputs": [
    {
     "name": "stderr",
     "output_type": "stream",
     "text": [
      "C:\\Users\\hudso\\AppData\\Local\\Temp\\ipykernel_21536\\3382361004.py:186: SettingWithCopyWarning: \n",
      "A value is trying to be set on a copy of a slice from a DataFrame.\n",
      "Try using .loc[row_indexer,col_indexer] = value instead\n",
      "\n",
      "See the caveats in the documentation: https://pandas.pydata.org/pandas-docs/stable/user_guide/indexing.html#returning-a-view-versus-a-copy\n",
      "  df.loc[:, \"intersects_outline_2\"] = False\n",
      "🔍 Checking WCS intersections:   0%|                                                           | 0/658 [00:00<?, ?it/s]"
     ]
    },
    {
     "name": "stdout",
     "output_type": "stream",
     "text": [
      "intersect: 0 / total 0\n"
     ]
    },
    {
     "name": "stderr",
     "output_type": "stream",
     "text": [
      "🔍 Checking WCS intersections:   0%|▏                                                  | 2/658 [00:07<12:13,  1.12s/it]"
     ]
    },
    {
     "name": "stdout",
     "output_type": "stream",
     "text": [
      "intersect: 1 / total 10\n"
     ]
    },
    {
     "name": "stderr",
     "output_type": "stream",
     "text": [
      "🔍 Checking WCS intersections:   1%|▍                                                  | 6/658 [00:09<11:58,  1.10s/it]"
     ]
    },
    {
     "name": "stdout",
     "output_type": "stream",
     "text": [
      "⚠️ Axis label fetch failed, using fallback: 400 Client Error: Bad Request for url: https://api.ellipsis-drive.com/v3/ogc/wcs/552c92e8-8422-46eb-bb55-1eb39e18eee9?service=WCS&version=2.0.1&request=DescribeCoverage&coverageId=a19ef596-c48b-479e-87f5-b808cf6fb4d3\n",
      "⚠️ Axis label fetch failed, using fallback: 400 Client Error: Bad Request for url: https://api.ellipsis-drive.com/v3/ogc/wcs/552c92e8-8422-46eb-bb55-1eb39e18eee9?service=WCS&version=2.0.1&request=DescribeCoverage&coverageId=a19ef596-c48b-479e-87f5-b808cf6fb4d3\n",
      "⚠️ Axis label fetch failed, using fallback: 400 Client Error: Bad Request for url: https://api.ellipsis-drive.com/v3/ogc/wcs/552c92e8-8422-46eb-bb55-1eb39e18eee9?service=WCS&version=2.0.1&request=DescribeCoverage&coverageId=a19ef596-c48b-479e-87f5-b808cf6fb4d3\n",
      "⚠️ Axis label fetch failed, using fallback: 400 Client Error: Bad Request for url: https://api.ellipsis-drive.com/v3/ogc/wcs/552c92e8-8422-46eb-bb55-1eb39e18eee9?service=WCS&version=2.0.1&request=DescribeCoverage&coverageId=a19ef596-c48b-479e-87f5-b808cf6fb4d3\n"
     ]
    },
    {
     "name": "stderr",
     "output_type": "stream",
     "text": [
      "\r",
      "🔍 Checking WCS intersections:   1%|▌                                                  | 7/658 [00:10<10:38,  1.02it/s]"
     ]
    },
    {
     "name": "stdout",
     "output_type": "stream",
     "text": [
      "⚠️ Axis label fetch failed, using fallback: 400 Client Error: Bad Request for url: https://api.ellipsis-drive.com/v3/ogc/wcs/552c92e8-8422-46eb-bb55-1eb39e18eee9?service=WCS&version=2.0.1&request=DescribeCoverage&coverageId=a19ef596-c48b-479e-87f5-b808cf6fb4d3\n"
     ]
    },
    {
     "name": "stderr",
     "output_type": "stream",
     "text": [
      "🔍 Checking WCS intersections:   2%|█▏                                                | 15/658 [00:19<14:00,  1.31s/it]"
     ]
    },
    {
     "name": "stdout",
     "output_type": "stream",
     "text": [
      "intersect: 7 / total 20\n"
     ]
    },
    {
     "name": "stderr",
     "output_type": "stream",
     "text": [
      "🔍 Checking WCS intersections:   4%|█▉                                                | 25/658 [00:35<15:21,  1.46s/it]"
     ]
    },
    {
     "name": "stdout",
     "output_type": "stream",
     "text": [
      "intersect: 7 / total 30\n"
     ]
    },
    {
     "name": "stderr",
     "output_type": "stream",
     "text": [
      "🔍 Checking WCS intersections:   5%|██▌                                               | 33/658 [00:47<16:38,  1.60s/it]"
     ]
    },
    {
     "name": "stdout",
     "output_type": "stream",
     "text": [
      "intersect: 7 / total 40\n"
     ]
    },
    {
     "name": "stderr",
     "output_type": "stream",
     "text": [
      "🔍 Checking WCS intersections:   5%|██▌                                               | 33/658 [00:48<16:38,  1.60s/it]"
     ]
    },
    {
     "name": "stdout",
     "output_type": "stream",
     "text": [
      "intersect: 7 / total 40\n"
     ]
    },
    {
     "name": "stderr",
     "output_type": "stream",
     "text": [
      "🔍 Checking WCS intersections:   5%|██▌                                               | 33/658 [00:48<16:38,  1.60s/it]"
     ]
    },
    {
     "name": "stdout",
     "output_type": "stream",
     "text": [
      "intersect: 7 / total 40\n"
     ]
    },
    {
     "name": "stderr",
     "output_type": "stream",
     "text": [
      "🔍 Checking WCS intersections:   5%|██▌                                               | 34/658 [00:48<16:35,  1.60s/it]"
     ]
    },
    {
     "name": "stdout",
     "output_type": "stream",
     "text": [
      "intersect: 7 / total 40\n"
     ]
    },
    {
     "name": "stderr",
     "output_type": "stream",
     "text": [
      "🔍 Checking WCS intersections:   5%|██▌                                               | 34/658 [00:49<16:35,  1.60s/it]"
     ]
    },
    {
     "name": "stdout",
     "output_type": "stream",
     "text": [
      "intersect: 7 / total 40\n"
     ]
    },
    {
     "name": "stderr",
     "output_type": "stream",
     "text": [
      "🔍 Checking WCS intersections:   5%|██▌                                               | 34/658 [00:49<16:35,  1.60s/it]"
     ]
    },
    {
     "name": "stdout",
     "output_type": "stream",
     "text": [
      "intersect: 7 / total 40\n"
     ]
    },
    {
     "name": "stderr",
     "output_type": "stream",
     "text": [
      "🔍 Checking WCS intersections:   5%|██▌                                               | 34/658 [00:50<16:35,  1.60s/it]"
     ]
    },
    {
     "name": "stdout",
     "output_type": "stream",
     "text": [
      "intersect: 7 / total 40\n"
     ]
    },
    {
     "name": "stderr",
     "output_type": "stream",
     "text": [
      "🔍 Checking WCS intersections:   5%|██▌                                               | 34/658 [00:50<16:35,  1.60s/it]"
     ]
    },
    {
     "name": "stdout",
     "output_type": "stream",
     "text": [
      "intersect: 7 / total 40\n"
     ]
    },
    {
     "name": "stderr",
     "output_type": "stream",
     "text": [
      "🔍 Checking WCS intersections:   5%|██▋                                               | 35/658 [00:50<17:24,  1.68s/it]"
     ]
    },
    {
     "name": "stdout",
     "output_type": "stream",
     "text": [
      "intersect: 7 / total 40\n"
     ]
    },
    {
     "name": "stderr",
     "output_type": "stream",
     "text": [
      "🔍 Checking WCS intersections:   5%|██▋                                               | 35/658 [00:50<17:24,  1.68s/it]"
     ]
    },
    {
     "name": "stdout",
     "output_type": "stream",
     "text": [
      "intersect: 7 / total 40\n"
     ]
    },
    {
     "name": "stderr",
     "output_type": "stream",
     "text": [
      "🔍 Checking WCS intersections:   7%|███▎                                              | 43/658 [01:03<15:50,  1.54s/it]"
     ]
    },
    {
     "name": "stdout",
     "output_type": "stream",
     "text": [
      "intersect: 7 / total 50\n"
     ]
    },
    {
     "name": "stderr",
     "output_type": "stream",
     "text": [
      "🔍 Checking WCS intersections:   8%|████                                              | 54/658 [01:24<16:46,  1.67s/it]"
     ]
    },
    {
     "name": "stdout",
     "output_type": "stream",
     "text": [
      "intersect: 7 / total 60\n"
     ]
    },
    {
     "name": "stderr",
     "output_type": "stream",
     "text": [
      "🔍 Checking WCS intersections:   8%|████                                              | 54/658 [01:25<16:46,  1.67s/it]"
     ]
    },
    {
     "name": "stdout",
     "output_type": "stream",
     "text": [
      "intersect: 7 / total 60\n"
     ]
    },
    {
     "name": "stderr",
     "output_type": "stream",
     "text": [
      "🔍 Checking WCS intersections:   8%|████                                              | 54/658 [01:25<16:46,  1.67s/it]"
     ]
    },
    {
     "name": "stdout",
     "output_type": "stream",
     "text": [
      "intersect: 7 / total 60\n"
     ]
    },
    {
     "name": "stderr",
     "output_type": "stream",
     "text": [
      "🔍 Checking WCS intersections:   8%|████▏                                             | 55/658 [01:25<16:10,  1.61s/it]"
     ]
    },
    {
     "name": "stdout",
     "output_type": "stream",
     "text": [
      "intersect: 7 / total 60\n"
     ]
    },
    {
     "name": "stderr",
     "output_type": "stream",
     "text": [
      "🔍 Checking WCS intersections:   8%|████▏                                             | 55/658 [01:26<16:10,  1.61s/it]"
     ]
    },
    {
     "name": "stdout",
     "output_type": "stream",
     "text": [
      "intersect: 7 / total 60\n"
     ]
    },
    {
     "name": "stderr",
     "output_type": "stream",
     "text": [
      "🔍 Checking WCS intersections:   9%|████▋                                             | 61/658 [01:36<15:44,  1.58s/it]"
     ]
    },
    {
     "name": "stdout",
     "output_type": "stream",
     "text": [
      "intersect: 7 / total 70\n"
     ]
    },
    {
     "name": "stderr",
     "output_type": "stream",
     "text": [
      "🔍 Checking WCS intersections:  12%|██████                                            | 79/658 [02:03<13:59,  1.45s/it]"
     ]
    },
    {
     "name": "stdout",
     "output_type": "stream",
     "text": [
      "intersect: 7 / total 80\n"
     ]
    },
    {
     "name": "stderr",
     "output_type": "stream",
     "text": [
      "🔍 Checking WCS intersections:  12%|██████                                            | 79/658 [02:03<13:59,  1.45s/it]"
     ]
    },
    {
     "name": "stdout",
     "output_type": "stream",
     "text": [
      "intersect: 7 / total 80\n"
     ]
    },
    {
     "name": "stderr",
     "output_type": "stream",
     "text": [
      "🔍 Checking WCS intersections:  12%|██████                                            | 79/658 [02:03<13:59,  1.45s/it]"
     ]
    },
    {
     "name": "stdout",
     "output_type": "stream",
     "text": [
      "intersect: 7 / total 80\n"
     ]
    },
    {
     "name": "stderr",
     "output_type": "stream",
     "text": [
      "🔍 Checking WCS intersections:  12%|██████                                            | 80/658 [02:03<14:06,  1.46s/it]"
     ]
    },
    {
     "name": "stdout",
     "output_type": "stream",
     "text": [
      "intersect: 7 / total 80\n"
     ]
    },
    {
     "name": "stderr",
     "output_type": "stream",
     "text": [
      "🔍 Checking WCS intersections:  12%|██████                                            | 80/658 [02:04<14:06,  1.46s/it]"
     ]
    },
    {
     "name": "stdout",
     "output_type": "stream",
     "text": [
      "intersect: 7 / total 80\n"
     ]
    },
    {
     "name": "stderr",
     "output_type": "stream",
     "text": [
      "🔍 Checking WCS intersections:  15%|███████▍                                          | 98/658 [02:35<14:22,  1.54s/it]"
     ]
    },
    {
     "name": "stdout",
     "output_type": "stream",
     "text": [
      "intersect: 7 / total 90\n"
     ]
    },
    {
     "name": "stderr",
     "output_type": "stream",
     "text": [
      "🔍 Checking WCS intersections:  17%|████████                                         | 109/658 [02:52<13:33,  1.48s/it]"
     ]
    },
    {
     "name": "stdout",
     "output_type": "stream",
     "text": [
      "intersect: 7 / total 100\n"
     ]
    },
    {
     "name": "stderr",
     "output_type": "stream",
     "text": [
      "🔍 Checking WCS intersections:  17%|████████▎                                        | 112/658 [02:57<15:16,  1.68s/it]"
     ]
    },
    {
     "name": "stdout",
     "output_type": "stream",
     "text": [
      "intersect: 7 / total 110\n"
     ]
    },
    {
     "name": "stderr",
     "output_type": "stream",
     "text": [
      "🔍 Checking WCS intersections:  18%|████████▋                                        | 116/658 [03:02<09:18,  1.03s/it]"
     ]
    },
    {
     "name": "stdout",
     "output_type": "stream",
     "text": [
      "intersect: 10 / total 120\n"
     ]
    },
    {
     "name": "stderr",
     "output_type": "stream",
     "text": [
      "🔍 Checking WCS intersections:  19%|█████████▏                                       | 123/658 [03:13<13:22,  1.50s/it]"
     ]
    },
    {
     "name": "stdout",
     "output_type": "stream",
     "text": [
      "intersect: 10 / total 130\n"
     ]
    },
    {
     "name": "stderr",
     "output_type": "stream",
     "text": [
      "🔍 Checking WCS intersections:  20%|█████████▊                                       | 131/658 [03:27<14:20,  1.63s/it]"
     ]
    },
    {
     "name": "stdout",
     "output_type": "stream",
     "text": [
      "intersect: 11 / total 140\n"
     ]
    },
    {
     "name": "stderr",
     "output_type": "stream",
     "text": [
      "🔍 Checking WCS intersections:  21%|██████████▎                                      | 138/658 [03:39<16:01,  1.85s/it]"
     ]
    },
    {
     "name": "stdout",
     "output_type": "stream",
     "text": [
      "intersect: 11 / total 150\n"
     ]
    },
    {
     "name": "stderr",
     "output_type": "stream",
     "text": [
      "🔍 Checking WCS intersections:  21%|██████████▎                                      | 138/658 [03:39<16:01,  1.85s/it]"
     ]
    },
    {
     "name": "stdout",
     "output_type": "stream",
     "text": [
      "intersect: 11 / total 150\n"
     ]
    },
    {
     "name": "stderr",
     "output_type": "stream",
     "text": [
      "🔍 Checking WCS intersections:  21%|██████████▎                                      | 138/658 [03:39<16:01,  1.85s/it]"
     ]
    },
    {
     "name": "stdout",
     "output_type": "stream",
     "text": [
      "intersect: 11 / total 150\n"
     ]
    },
    {
     "name": "stderr",
     "output_type": "stream",
     "text": [
      "🔍 Checking WCS intersections:  21%|██████████▎                                      | 138/658 [03:39<16:01,  1.85s/it]"
     ]
    },
    {
     "name": "stdout",
     "output_type": "stream",
     "text": [
      "intersect: 11 / total 150\n"
     ]
    },
    {
     "name": "stderr",
     "output_type": "stream",
     "text": [
      "🔍 Checking WCS intersections:  21%|██████████▎                                      | 138/658 [03:40<16:01,  1.85s/it]"
     ]
    },
    {
     "name": "stdout",
     "output_type": "stream",
     "text": [
      "intersect: 11 / total 150\n"
     ]
    },
    {
     "name": "stderr",
     "output_type": "stream",
     "text": [
      "🔍 Checking WCS intersections:  21%|██████████▎                                      | 139/658 [03:40<14:47,  1.71s/it]"
     ]
    },
    {
     "name": "stdout",
     "output_type": "stream",
     "text": [
      "intersect: 11 / total 150\n"
     ]
    },
    {
     "name": "stderr",
     "output_type": "stream",
     "text": [
      "🔍 Checking WCS intersections:  21%|██████████▎                                      | 139/658 [03:40<14:47,  1.71s/it]"
     ]
    },
    {
     "name": "stdout",
     "output_type": "stream",
     "text": [
      "intersect: 11 / total 150\n"
     ]
    },
    {
     "name": "stderr",
     "output_type": "stream",
     "text": [
      "🔍 Checking WCS intersections:  21%|██████████▎                                      | 139/658 [03:41<14:47,  1.71s/it]"
     ]
    },
    {
     "name": "stdout",
     "output_type": "stream",
     "text": [
      "intersect: 11 / total 150\n"
     ]
    },
    {
     "name": "stderr",
     "output_type": "stream",
     "text": [
      "🔍 Checking WCS intersections:  21%|██████████▎                                      | 139/658 [03:41<14:47,  1.71s/it]"
     ]
    },
    {
     "name": "stdout",
     "output_type": "stream",
     "text": [
      "intersect: 11 / total 150\n"
     ]
    },
    {
     "name": "stderr",
     "output_type": "stream",
     "text": [
      "🔍 Checking WCS intersections:  21%|██████████▎                                      | 139/658 [03:41<14:47,  1.71s/it]"
     ]
    },
    {
     "name": "stdout",
     "output_type": "stream",
     "text": [
      "intersect: 11 / total 150\n"
     ]
    },
    {
     "name": "stderr",
     "output_type": "stream",
     "text": [
      "🔍 Checking WCS intersections:  21%|██████████▍                                      | 140/658 [03:41<14:04,  1.63s/it]"
     ]
    },
    {
     "name": "stdout",
     "output_type": "stream",
     "text": [
      "intersect: 11 / total 150\n"
     ]
    },
    {
     "name": "stderr",
     "output_type": "stream",
     "text": [
      "🔍 Checking WCS intersections:  21%|██████████▍                                      | 140/658 [03:42<14:04,  1.63s/it]"
     ]
    },
    {
     "name": "stdout",
     "output_type": "stream",
     "text": [
      "intersect: 11 / total 150\n"
     ]
    },
    {
     "name": "stderr",
     "output_type": "stream",
     "text": [
      "🔍 Checking WCS intersections:  21%|██████████▍                                      | 140/658 [03:42<14:04,  1.63s/it]"
     ]
    },
    {
     "name": "stdout",
     "output_type": "stream",
     "text": [
      "intersect: 11 / total 150\n"
     ]
    },
    {
     "name": "stderr",
     "output_type": "stream",
     "text": [
      "🔍 Checking WCS intersections:  21%|██████████▍                                      | 140/658 [03:42<14:04,  1.63s/it]"
     ]
    },
    {
     "name": "stdout",
     "output_type": "stream",
     "text": [
      "intersect: 11 / total 150\n"
     ]
    },
    {
     "name": "stderr",
     "output_type": "stream",
     "text": [
      "🔍 Checking WCS intersections:  21%|██████████▍                                      | 140/658 [03:43<14:04,  1.63s/it]"
     ]
    },
    {
     "name": "stdout",
     "output_type": "stream",
     "text": [
      "intersect: 11 / total 150\n"
     ]
    },
    {
     "name": "stderr",
     "output_type": "stream",
     "text": [
      "🔍 Checking WCS intersections:  21%|██████████▌                                      | 141/658 [03:43<13:46,  1.60s/it]"
     ]
    },
    {
     "name": "stdout",
     "output_type": "stream",
     "text": [
      "intersect: 11 / total 150\n"
     ]
    },
    {
     "name": "stderr",
     "output_type": "stream",
     "text": [
      "🔍 Checking WCS intersections:  21%|██████████▌                                      | 141/658 [03:43<13:46,  1.60s/it]"
     ]
    },
    {
     "name": "stdout",
     "output_type": "stream",
     "text": [
      "intersect: 11 / total 150\n"
     ]
    },
    {
     "name": "stderr",
     "output_type": "stream",
     "text": [
      "🔍 Checking WCS intersections:  21%|██████████▌                                      | 141/658 [03:44<13:46,  1.60s/it]"
     ]
    },
    {
     "name": "stdout",
     "output_type": "stream",
     "text": [
      "intersect: 11 / total 150\n"
     ]
    },
    {
     "name": "stderr",
     "output_type": "stream",
     "text": [
      "🔍 Checking WCS intersections:  21%|██████████▌                                      | 141/658 [03:44<13:46,  1.60s/it]"
     ]
    },
    {
     "name": "stdout",
     "output_type": "stream",
     "text": [
      "intersect: 11 / total 150\n"
     ]
    },
    {
     "name": "stderr",
     "output_type": "stream",
     "text": [
      "🔍 Checking WCS intersections:  21%|██████████▌                                      | 141/658 [03:44<13:46,  1.60s/it]"
     ]
    },
    {
     "name": "stdout",
     "output_type": "stream",
     "text": [
      "intersect: 11 / total 150\n"
     ]
    },
    {
     "name": "stderr",
     "output_type": "stream",
     "text": [
      "🔍 Checking WCS intersections:  22%|██████████▌                                      | 142/658 [03:44<13:30,  1.57s/it]"
     ]
    },
    {
     "name": "stdout",
     "output_type": "stream",
     "text": [
      "intersect: 11 / total 150\n"
     ]
    },
    {
     "name": "stderr",
     "output_type": "stream",
     "text": [
      "🔍 Checking WCS intersections:  22%|██████████▌                                      | 142/658 [03:45<13:30,  1.57s/it]"
     ]
    },
    {
     "name": "stdout",
     "output_type": "stream",
     "text": [
      "intersect: 11 / total 150\n"
     ]
    },
    {
     "name": "stderr",
     "output_type": "stream",
     "text": [
      "🔍 Checking WCS intersections:  22%|██████████▌                                      | 142/658 [03:45<13:30,  1.57s/it]"
     ]
    },
    {
     "name": "stdout",
     "output_type": "stream",
     "text": [
      "intersect: 11 / total 150\n"
     ]
    },
    {
     "name": "stderr",
     "output_type": "stream",
     "text": [
      "🔍 Checking WCS intersections:  22%|██████████▌                                      | 142/658 [03:45<13:30,  1.57s/it]"
     ]
    },
    {
     "name": "stdout",
     "output_type": "stream",
     "text": [
      "intersect: 11 / total 150\n"
     ]
    },
    {
     "name": "stderr",
     "output_type": "stream",
     "text": [
      "🔍 Checking WCS intersections:  22%|██████████▌                                      | 142/658 [03:46<13:30,  1.57s/it]"
     ]
    },
    {
     "name": "stdout",
     "output_type": "stream",
     "text": [
      "intersect: 11 / total 150\n"
     ]
    },
    {
     "name": "stderr",
     "output_type": "stream",
     "text": [
      "🔍 Checking WCS intersections:  22%|██████████▋                                      | 143/658 [03:46<13:17,  1.55s/it]"
     ]
    },
    {
     "name": "stdout",
     "output_type": "stream",
     "text": [
      "intersect: 11 / total 150\n"
     ]
    },
    {
     "name": "stderr",
     "output_type": "stream",
     "text": [
      "🔍 Checking WCS intersections:  22%|██████████▋                                      | 143/658 [03:46<13:17,  1.55s/it]"
     ]
    },
    {
     "name": "stdout",
     "output_type": "stream",
     "text": [
      "intersect: 11 / total 150\n"
     ]
    },
    {
     "name": "stderr",
     "output_type": "stream",
     "text": [
      "🔍 Checking WCS intersections:  22%|██████████▋                                      | 143/658 [03:47<13:17,  1.55s/it]"
     ]
    },
    {
     "name": "stdout",
     "output_type": "stream",
     "text": [
      "intersect: 11 / total 150\n"
     ]
    },
    {
     "name": "stderr",
     "output_type": "stream",
     "text": [
      "🔍 Checking WCS intersections:  22%|██████████▋                                      | 143/658 [03:47<13:17,  1.55s/it]"
     ]
    },
    {
     "name": "stdout",
     "output_type": "stream",
     "text": [
      "intersect: 11 / total 150\n"
     ]
    },
    {
     "name": "stderr",
     "output_type": "stream",
     "text": [
      "🔍 Checking WCS intersections:  22%|██████████▋                                      | 143/658 [03:47<13:17,  1.55s/it]"
     ]
    },
    {
     "name": "stdout",
     "output_type": "stream",
     "text": [
      "intersect: 11 / total 150\n"
     ]
    },
    {
     "name": "stderr",
     "output_type": "stream",
     "text": [
      "🔍 Checking WCS intersections:  22%|██████████▋                                      | 144/658 [03:47<13:00,  1.52s/it]"
     ]
    },
    {
     "name": "stdout",
     "output_type": "stream",
     "text": [
      "intersect: 11 / total 150\n"
     ]
    },
    {
     "name": "stderr",
     "output_type": "stream",
     "text": [
      "🔍 Checking WCS intersections:  22%|██████████▋                                      | 144/658 [03:48<13:00,  1.52s/it]"
     ]
    },
    {
     "name": "stdout",
     "output_type": "stream",
     "text": [
      "intersect: 11 / total 150\n"
     ]
    },
    {
     "name": "stderr",
     "output_type": "stream",
     "text": [
      "🔍 Checking WCS intersections:  23%|███████████▏                                     | 151/658 [04:02<16:28,  1.95s/it]C:\\Users\\hudso\\AppData\\Local\\Temp\\ipykernel_21536\\3382361004.py:143: NodataShadowWarning: The dataset's nodata attribute is shadowing the alpha band. All masks will be determined by the nodata attribute\n",
      "  data = src.read(1, masked=True)  # read first band as masked array\n",
      "🔍 Checking WCS intersections:  24%|███████████▊                                     | 159/658 [04:14<11:42,  1.41s/it]"
     ]
    },
    {
     "name": "stdout",
     "output_type": "stream",
     "text": [
      "intersect: 12 / total 160\n"
     ]
    },
    {
     "name": "stderr",
     "output_type": "stream",
     "text": [
      "🔍 Checking WCS intersections:  26%|████████████▉                                    | 174/658 [04:37<12:47,  1.59s/it]"
     ]
    },
    {
     "name": "stdout",
     "output_type": "stream",
     "text": [
      "intersect: 12 / total 170\n"
     ]
    },
    {
     "name": "stderr",
     "output_type": "stream",
     "text": [
      "🔍 Checking WCS intersections:  26%|████████████▉                                    | 174/658 [04:37<12:47,  1.59s/it]"
     ]
    },
    {
     "name": "stdout",
     "output_type": "stream",
     "text": [
      "intersect: 12 / total 170\n"
     ]
    },
    {
     "name": "stderr",
     "output_type": "stream",
     "text": [
      "🔍 Checking WCS intersections:  26%|████████████▉                                    | 174/658 [04:37<12:47,  1.59s/it]"
     ]
    },
    {
     "name": "stdout",
     "output_type": "stream",
     "text": [
      "intersect: 12 / total 170\n"
     ]
    },
    {
     "name": "stderr",
     "output_type": "stream",
     "text": [
      "🔍 Checking WCS intersections:  27%|█████████████                                    | 175/658 [04:38<12:31,  1.56s/it]"
     ]
    },
    {
     "name": "stdout",
     "output_type": "stream",
     "text": [
      "intersect: 12 / total 170\n"
     ]
    },
    {
     "name": "stderr",
     "output_type": "stream",
     "text": [
      "🔍 Checking WCS intersections:  27%|█████████████                                    | 175/658 [04:38<12:31,  1.56s/it]"
     ]
    },
    {
     "name": "stdout",
     "output_type": "stream",
     "text": [
      "intersect: 12 / total 170\n"
     ]
    },
    {
     "name": "stderr",
     "output_type": "stream",
     "text": [
      "🔍 Checking WCS intersections:  27%|█████████████                                    | 175/658 [04:38<12:31,  1.56s/it]"
     ]
    },
    {
     "name": "stdout",
     "output_type": "stream",
     "text": [
      "intersect: 12 / total 170\n"
     ]
    },
    {
     "name": "stderr",
     "output_type": "stream",
     "text": [
      "🔍 Checking WCS intersections:  27%|█████████████                                    | 175/658 [04:39<12:31,  1.56s/it]"
     ]
    },
    {
     "name": "stdout",
     "output_type": "stream",
     "text": [
      "intersect: 12 / total 170\n"
     ]
    },
    {
     "name": "stderr",
     "output_type": "stream",
     "text": [
      "🔍 Checking WCS intersections:  27%|█████████████                                    | 175/658 [04:39<12:31,  1.56s/it]"
     ]
    },
    {
     "name": "stdout",
     "output_type": "stream",
     "text": [
      "intersect: 12 / total 170\n"
     ]
    },
    {
     "name": "stderr",
     "output_type": "stream",
     "text": [
      "🔍 Checking WCS intersections:  27%|█████████████                                    | 176/658 [04:39<12:11,  1.52s/it]"
     ]
    },
    {
     "name": "stdout",
     "output_type": "stream",
     "text": [
      "intersect: 12 / total 170\n"
     ]
    },
    {
     "name": "stderr",
     "output_type": "stream",
     "text": [
      "🔍 Checking WCS intersections:  27%|█████████████                                    | 176/658 [04:39<12:11,  1.52s/it]"
     ]
    },
    {
     "name": "stdout",
     "output_type": "stream",
     "text": [
      "intersect: 12 / total 170\n"
     ]
    },
    {
     "name": "stderr",
     "output_type": "stream",
     "text": [
      "🔍 Checking WCS intersections:  27%|█████████████                                    | 176/658 [04:40<12:11,  1.52s/it]"
     ]
    },
    {
     "name": "stdout",
     "output_type": "stream",
     "text": [
      "intersect: 12 / total 170\n"
     ]
    },
    {
     "name": "stderr",
     "output_type": "stream",
     "text": [
      "🔍 Checking WCS intersections:  27%|█████████████                                    | 176/658 [04:40<12:11,  1.52s/it]"
     ]
    },
    {
     "name": "stdout",
     "output_type": "stream",
     "text": [
      "intersect: 12 / total 170\n"
     ]
    },
    {
     "name": "stderr",
     "output_type": "stream",
     "text": [
      "🔍 Checking WCS intersections:  27%|█████████████                                    | 176/658 [04:40<12:11,  1.52s/it]"
     ]
    },
    {
     "name": "stdout",
     "output_type": "stream",
     "text": [
      "intersect: 12 / total 170\n"
     ]
    },
    {
     "name": "stderr",
     "output_type": "stream",
     "text": [
      "🔍 Checking WCS intersections:  27%|█████████████▏                                   | 177/658 [04:41<12:05,  1.51s/it]"
     ]
    },
    {
     "name": "stdout",
     "output_type": "stream",
     "text": [
      "intersect: 12 / total 170\n"
     ]
    },
    {
     "name": "stderr",
     "output_type": "stream",
     "text": [
      "🔍 Checking WCS intersections:  27%|█████████████▏                                   | 177/658 [04:41<12:05,  1.51s/it]"
     ]
    },
    {
     "name": "stdout",
     "output_type": "stream",
     "text": [
      "intersect: 12 / total 170\n"
     ]
    },
    {
     "name": "stderr",
     "output_type": "stream",
     "text": [
      "🔍 Checking WCS intersections:  27%|█████████████▏                                   | 177/658 [04:41<12:05,  1.51s/it]"
     ]
    },
    {
     "name": "stdout",
     "output_type": "stream",
     "text": [
      "intersect: 12 / total 170\n"
     ]
    },
    {
     "name": "stderr",
     "output_type": "stream",
     "text": [
      "🔍 Checking WCS intersections:  27%|█████████████▏                                   | 177/658 [04:42<12:05,  1.51s/it]"
     ]
    },
    {
     "name": "stdout",
     "output_type": "stream",
     "text": [
      "intersect: 12 / total 170\n"
     ]
    },
    {
     "name": "stderr",
     "output_type": "stream",
     "text": [
      "🔍 Checking WCS intersections:  27%|█████████████▏                                   | 177/658 [04:42<12:05,  1.51s/it]"
     ]
    },
    {
     "name": "stdout",
     "output_type": "stream",
     "text": [
      "intersect: 12 / total 170\n"
     ]
    },
    {
     "name": "stderr",
     "output_type": "stream",
     "text": [
      "🔍 Checking WCS intersections:  27%|█████████████▎                                   | 178/658 [04:42<12:18,  1.54s/it]"
     ]
    },
    {
     "name": "stdout",
     "output_type": "stream",
     "text": [
      "intersect: 12 / total 170\n"
     ]
    },
    {
     "name": "stderr",
     "output_type": "stream",
     "text": [
      "🔍 Checking WCS intersections:  27%|█████████████▎                                   | 178/658 [04:42<12:18,  1.54s/it]"
     ]
    },
    {
     "name": "stdout",
     "output_type": "stream",
     "text": [
      "intersect: 12 / total 170\n"
     ]
    },
    {
     "name": "stderr",
     "output_type": "stream",
     "text": [
      "🔍 Checking WCS intersections:  34%|████████████████▌                                | 222/658 [05:58<10:22,  1.43s/it]"
     ]
    },
    {
     "name": "stdout",
     "output_type": "stream",
     "text": [
      "intersect: 12 / total 180\n"
     ]
    },
    {
     "name": "stderr",
     "output_type": "stream",
     "text": [
      "🔍 Checking WCS intersections:  34%|████████████████▌                                | 222/658 [05:58<10:22,  1.43s/it]"
     ]
    },
    {
     "name": "stdout",
     "output_type": "stream",
     "text": [
      "intersect: 12 / total 180\n"
     ]
    },
    {
     "name": "stderr",
     "output_type": "stream",
     "text": [
      "🔍 Checking WCS intersections:  34%|████████████████▌                                | 222/658 [05:58<10:22,  1.43s/it]"
     ]
    },
    {
     "name": "stdout",
     "output_type": "stream",
     "text": [
      "intersect: 12 / total 180\n"
     ]
    },
    {
     "name": "stderr",
     "output_type": "stream",
     "text": [
      "🔍 Checking WCS intersections:  34%|████████████████▌                                | 223/658 [05:58<10:21,  1.43s/it]"
     ]
    },
    {
     "name": "stdout",
     "output_type": "stream",
     "text": [
      "intersect: 12 / total 180\n"
     ]
    },
    {
     "name": "stderr",
     "output_type": "stream",
     "text": [
      "🔍 Checking WCS intersections:  34%|████████████████▌                                | 223/658 [05:59<10:21,  1.43s/it]"
     ]
    },
    {
     "name": "stdout",
     "output_type": "stream",
     "text": [
      "intersect: 12 / total 180\n"
     ]
    },
    {
     "name": "stderr",
     "output_type": "stream",
     "text": [
      "🔍 Checking WCS intersections:  35%|█████████████████▎                               | 233/658 [06:14<10:34,  1.49s/it]"
     ]
    },
    {
     "name": "stdout",
     "output_type": "stream",
     "text": [
      "intersect: 13 / total 190\n"
     ]
    },
    {
     "name": "stderr",
     "output_type": "stream",
     "text": [
      "🔍 Checking WCS intersections:  38%|██████████████████▍                              | 247/658 [06:35<09:48,  1.43s/it]"
     ]
    },
    {
     "name": "stdout",
     "output_type": "stream",
     "text": [
      "intersect: 13 / total 200\n"
     ]
    },
    {
     "name": "stderr",
     "output_type": "stream",
     "text": [
      "🔍 Checking WCS intersections:  38%|██████████████████▋                              | 251/658 [06:43<11:10,  1.65s/it]"
     ]
    },
    {
     "name": "stdout",
     "output_type": "stream",
     "text": [
      "intersect: 13 / total 210\n"
     ]
    },
    {
     "name": "stderr",
     "output_type": "stream",
     "text": [
      "🔍 Checking WCS intersections:  39%|███████████████████▏                             | 258/658 [06:55<10:20,  1.55s/it]"
     ]
    },
    {
     "name": "stdout",
     "output_type": "stream",
     "text": [
      "intersect: 13 / total 220\n"
     ]
    },
    {
     "name": "stderr",
     "output_type": "stream",
     "text": [
      "🔍 Checking WCS intersections:  40%|███████████████████▊                             | 266/658 [07:07<10:36,  1.62s/it]"
     ]
    },
    {
     "name": "stdout",
     "output_type": "stream",
     "text": [
      "intersect: 13 / total 230\n"
     ]
    },
    {
     "name": "stderr",
     "output_type": "stream",
     "text": [
      "🔍 Checking WCS intersections:  40%|███████████████████▊                             | 266/658 [07:07<10:36,  1.62s/it]"
     ]
    },
    {
     "name": "stdout",
     "output_type": "stream",
     "text": [
      "intersect: 13 / total 230\n"
     ]
    },
    {
     "name": "stderr",
     "output_type": "stream",
     "text": [
      "🔍 Checking WCS intersections:  40%|███████████████████▊                             | 266/658 [07:08<10:36,  1.62s/it]"
     ]
    },
    {
     "name": "stdout",
     "output_type": "stream",
     "text": [
      "intersect: 13 / total 230\n"
     ]
    },
    {
     "name": "stderr",
     "output_type": "stream",
     "text": [
      "🔍 Checking WCS intersections:  43%|████████████████████▊                            | 280/658 [07:28<09:26,  1.50s/it]"
     ]
    },
    {
     "name": "stdout",
     "output_type": "stream",
     "text": [
      "intersect: 13 / total 240\n"
     ]
    },
    {
     "name": "stderr",
     "output_type": "stream",
     "text": [
      "🔍 Checking WCS intersections:  43%|████████████████████▊                            | 280/658 [07:28<09:26,  1.50s/it]"
     ]
    },
    {
     "name": "stdout",
     "output_type": "stream",
     "text": [
      "intersect: 13 / total 240\n"
     ]
    },
    {
     "name": "stderr",
     "output_type": "stream",
     "text": [
      "🔍 Checking WCS intersections:  43%|████████████████████▊                            | 280/658 [07:29<09:26,  1.50s/it]"
     ]
    },
    {
     "name": "stdout",
     "output_type": "stream",
     "text": [
      "intersect: 13 / total 240\n"
     ]
    },
    {
     "name": "stderr",
     "output_type": "stream",
     "text": [
      "🔍 Checking WCS intersections:  43%|████████████████████▉                            | 281/658 [07:29<09:21,  1.49s/it]"
     ]
    },
    {
     "name": "stdout",
     "output_type": "stream",
     "text": [
      "intersect: 13 / total 240\n"
     ]
    },
    {
     "name": "stderr",
     "output_type": "stream",
     "text": [
      "🔍 Checking WCS intersections:  43%|████████████████████▉                            | 281/658 [07:29<09:21,  1.49s/it]"
     ]
    },
    {
     "name": "stdout",
     "output_type": "stream",
     "text": [
      "intersect: 13 / total 240\n"
     ]
    },
    {
     "name": "stderr",
     "output_type": "stream",
     "text": [
      "🔍 Checking WCS intersections:  43%|████████████████████▉                            | 281/658 [07:29<09:21,  1.49s/it]"
     ]
    },
    {
     "name": "stdout",
     "output_type": "stream",
     "text": [
      "intersect: 13 / total 240\n"
     ]
    },
    {
     "name": "stderr",
     "output_type": "stream",
     "text": [
      "🔍 Checking WCS intersections:  43%|████████████████████▉                            | 281/658 [07:30<09:21,  1.49s/it]"
     ]
    },
    {
     "name": "stdout",
     "output_type": "stream",
     "text": [
      "intersect: 13 / total 240\n"
     ]
    },
    {
     "name": "stderr",
     "output_type": "stream",
     "text": [
      "🔍 Checking WCS intersections:  43%|████████████████████▉                            | 281/658 [07:30<09:21,  1.49s/it]"
     ]
    },
    {
     "name": "stdout",
     "output_type": "stream",
     "text": [
      "intersect: 13 / total 240\n"
     ]
    },
    {
     "name": "stderr",
     "output_type": "stream",
     "text": [
      "🔍 Checking WCS intersections:  43%|█████████████████████                            | 282/658 [07:30<09:12,  1.47s/it]"
     ]
    },
    {
     "name": "stdout",
     "output_type": "stream",
     "text": [
      "intersect: 13 / total 240\n"
     ]
    },
    {
     "name": "stderr",
     "output_type": "stream",
     "text": [
      "🔍 Checking WCS intersections:  44%|█████████████████████▋                           | 291/658 [07:45<09:21,  1.53s/it]"
     ]
    },
    {
     "name": "stdout",
     "output_type": "stream",
     "text": [
      "intersect: 13 / total 250\n"
     ]
    },
    {
     "name": "stderr",
     "output_type": "stream",
     "text": [
      "🔍 Checking WCS intersections:  44%|█████████████████████▋                           | 291/658 [07:45<09:21,  1.53s/it]"
     ]
    },
    {
     "name": "stdout",
     "output_type": "stream",
     "text": [
      "intersect: 13 / total 250\n"
     ]
    },
    {
     "name": "stderr",
     "output_type": "stream",
     "text": [
      "🔍 Checking WCS intersections:  44%|█████████████████████▋                           | 291/658 [07:46<09:21,  1.53s/it]"
     ]
    },
    {
     "name": "stdout",
     "output_type": "stream",
     "text": [
      "intersect: 13 / total 250\n"
     ]
    },
    {
     "name": "stderr",
     "output_type": "stream",
     "text": [
      "🔍 Checking WCS intersections:  44%|█████████████████████▋                           | 292/658 [07:46<09:11,  1.51s/it]"
     ]
    },
    {
     "name": "stdout",
     "output_type": "stream",
     "text": [
      "intersect: 13 / total 250\n"
     ]
    },
    {
     "name": "stderr",
     "output_type": "stream",
     "text": [
      "🔍 Checking WCS intersections:  44%|█████████████████████▋                           | 292/658 [07:46<09:11,  1.51s/it]"
     ]
    },
    {
     "name": "stdout",
     "output_type": "stream",
     "text": [
      "intersect: 13 / total 250\n"
     ]
    },
    {
     "name": "stderr",
     "output_type": "stream",
     "text": [
      "🔍 Checking WCS intersections:  44%|█████████████████████▋                           | 292/658 [07:46<09:11,  1.51s/it]"
     ]
    },
    {
     "name": "stdout",
     "output_type": "stream",
     "text": [
      "intersect: 13 / total 250\n"
     ]
    },
    {
     "name": "stderr",
     "output_type": "stream",
     "text": [
      "🔍 Checking WCS intersections:  44%|█████████████████████▋                           | 292/658 [07:47<09:11,  1.51s/it]"
     ]
    },
    {
     "name": "stdout",
     "output_type": "stream",
     "text": [
      "intersect: 13 / total 250\n"
     ]
    },
    {
     "name": "stderr",
     "output_type": "stream",
     "text": [
      "🔍 Checking WCS intersections:  44%|█████████████████████▋                           | 292/658 [07:47<09:11,  1.51s/it]"
     ]
    },
    {
     "name": "stdout",
     "output_type": "stream",
     "text": [
      "intersect: 13 / total 250\n"
     ]
    },
    {
     "name": "stderr",
     "output_type": "stream",
     "text": [
      "🔍 Checking WCS intersections:  45%|█████████████████████▊                           | 293/658 [07:47<09:03,  1.49s/it]"
     ]
    },
    {
     "name": "stdout",
     "output_type": "stream",
     "text": [
      "intersect: 13 / total 250\n"
     ]
    },
    {
     "name": "stderr",
     "output_type": "stream",
     "text": [
      "🔍 Checking WCS intersections:  47%|██████████████████████▊                          | 307/658 [08:08<08:40,  1.48s/it]"
     ]
    },
    {
     "name": "stdout",
     "output_type": "stream",
     "text": [
      "intersect: 14 / total 260\n"
     ]
    },
    {
     "name": "stderr",
     "output_type": "stream",
     "text": [
      "🔍 Checking WCS intersections:  47%|██████████████████████▊                          | 307/658 [08:08<08:40,  1.48s/it]"
     ]
    },
    {
     "name": "stdout",
     "output_type": "stream",
     "text": [
      "intersect: 14 / total 260\n"
     ]
    },
    {
     "name": "stderr",
     "output_type": "stream",
     "text": [
      "🔍 Checking WCS intersections:  47%|██████████████████████▊                          | 307/658 [08:08<08:40,  1.48s/it]"
     ]
    },
    {
     "name": "stdout",
     "output_type": "stream",
     "text": [
      "intersect: 14 / total 260\n"
     ]
    },
    {
     "name": "stderr",
     "output_type": "stream",
     "text": [
      "🔍 Checking WCS intersections:  47%|██████████████████████▉                          | 308/658 [08:09<08:41,  1.49s/it]"
     ]
    },
    {
     "name": "stdout",
     "output_type": "stream",
     "text": [
      "intersect: 14 / total 260\n"
     ]
    },
    {
     "name": "stderr",
     "output_type": "stream",
     "text": [
      "🔍 Checking WCS intersections:  48%|███████████████████████▎                         | 313/658 [08:20<07:34,  1.32s/it]"
     ]
    },
    {
     "name": "stdout",
     "output_type": "stream",
     "text": [
      "intersect: 15 / total 270\n"
     ]
    },
    {
     "name": "stderr",
     "output_type": "stream",
     "text": [
      "🔍 Checking WCS intersections:  48%|███████████████████████▌                         | 316/658 [08:26<12:40,  2.22s/it]"
     ]
    },
    {
     "name": "stdout",
     "output_type": "stream",
     "text": [
      "intersect: 15 / total 280\n"
     ]
    },
    {
     "name": "stderr",
     "output_type": "stream",
     "text": [
      "🔍 Checking WCS intersections:  49%|███████████████████████▉                         | 322/658 [08:37<10:47,  1.93s/it]"
     ]
    },
    {
     "name": "stdout",
     "output_type": "stream",
     "text": [
      "intersect: 15 / total 290\n"
     ]
    },
    {
     "name": "stderr",
     "output_type": "stream",
     "text": [
      "🔍 Checking WCS intersections:  49%|███████████████████████▉                         | 322/658 [08:37<10:47,  1.93s/it]"
     ]
    },
    {
     "name": "stdout",
     "output_type": "stream",
     "text": [
      "intersect: 15 / total 290\n"
     ]
    },
    {
     "name": "stderr",
     "output_type": "stream",
     "text": [
      "🔍 Checking WCS intersections:  49%|███████████████████████▉                         | 322/658 [08:38<10:47,  1.93s/it]"
     ]
    },
    {
     "name": "stdout",
     "output_type": "stream",
     "text": [
      "intersect: 15 / total 290\n"
     ]
    },
    {
     "name": "stderr",
     "output_type": "stream",
     "text": [
      "🔍 Checking WCS intersections:  49%|████████████████████████                         | 323/658 [08:38<09:57,  1.78s/it]"
     ]
    },
    {
     "name": "stdout",
     "output_type": "stream",
     "text": [
      "intersect: 15 / total 290\n"
     ]
    },
    {
     "name": "stderr",
     "output_type": "stream",
     "text": [
      "🔍 Checking WCS intersections:  49%|████████████████████████                         | 323/658 [08:38<09:57,  1.78s/it]"
     ]
    },
    {
     "name": "stdout",
     "output_type": "stream",
     "text": [
      "intersect: 15 / total 290\n"
     ]
    },
    {
     "name": "stderr",
     "output_type": "stream",
     "text": [
      "🔍 Checking WCS intersections:  49%|████████████████████████                         | 323/658 [08:39<09:57,  1.78s/it]"
     ]
    },
    {
     "name": "stdout",
     "output_type": "stream",
     "text": [
      "intersect: 15 / total 290\n"
     ]
    },
    {
     "name": "stderr",
     "output_type": "stream",
     "text": [
      "🔍 Checking WCS intersections:  49%|████████████████████████                         | 323/658 [08:39<09:57,  1.78s/it]"
     ]
    },
    {
     "name": "stdout",
     "output_type": "stream",
     "text": [
      "intersect: 15 / total 290\n"
     ]
    },
    {
     "name": "stderr",
     "output_type": "stream",
     "text": [
      "🔍 Checking WCS intersections:  49%|████████████████████████                         | 323/658 [08:39<09:57,  1.78s/it]"
     ]
    },
    {
     "name": "stdout",
     "output_type": "stream",
     "text": [
      "intersect: 15 / total 290\n"
     ]
    },
    {
     "name": "stderr",
     "output_type": "stream",
     "text": [
      "🔍 Checking WCS intersections:  49%|████████████████████████▏                        | 324/658 [08:40<09:43,  1.75s/it]"
     ]
    },
    {
     "name": "stdout",
     "output_type": "stream",
     "text": [
      "intersect: 15 / total 290\n"
     ]
    },
    {
     "name": "stderr",
     "output_type": "stream",
     "text": [
      "🔍 Checking WCS intersections:  49%|████████████████████████▏                        | 324/658 [08:40<09:43,  1.75s/it]"
     ]
    },
    {
     "name": "stdout",
     "output_type": "stream",
     "text": [
      "intersect: 15 / total 290\n"
     ]
    },
    {
     "name": "stderr",
     "output_type": "stream",
     "text": [
      "🔍 Checking WCS intersections:  49%|████████████████████████▏                        | 324/658 [08:40<09:43,  1.75s/it]"
     ]
    },
    {
     "name": "stdout",
     "output_type": "stream",
     "text": [
      "intersect: 15 / total 290\n"
     ]
    },
    {
     "name": "stderr",
     "output_type": "stream",
     "text": [
      "🔍 Checking WCS intersections:  49%|████████████████████████▏                        | 324/658 [08:41<09:43,  1.75s/it]"
     ]
    },
    {
     "name": "stdout",
     "output_type": "stream",
     "text": [
      "intersect: 15 / total 290\n"
     ]
    },
    {
     "name": "stderr",
     "output_type": "stream",
     "text": [
      "🔍 Checking WCS intersections:  49%|████████████████████████▏                        | 324/658 [08:41<09:43,  1.75s/it]"
     ]
    },
    {
     "name": "stdout",
     "output_type": "stream",
     "text": [
      "intersect: 15 / total 290\n"
     ]
    },
    {
     "name": "stderr",
     "output_type": "stream",
     "text": [
      "🔍 Checking WCS intersections:  49%|████████████████████████▏                        | 325/658 [08:41<09:19,  1.68s/it]"
     ]
    },
    {
     "name": "stdout",
     "output_type": "stream",
     "text": [
      "intersect: 15 / total 290\n"
     ]
    },
    {
     "name": "stderr",
     "output_type": "stream",
     "text": [
      "🔍 Checking WCS intersections:  49%|████████████████████████▏                        | 325/658 [08:41<09:19,  1.68s/it]"
     ]
    },
    {
     "name": "stdout",
     "output_type": "stream",
     "text": [
      "intersect: 15 / total 290\n"
     ]
    },
    {
     "name": "stderr",
     "output_type": "stream",
     "text": [
      "🔍 Checking WCS intersections:  49%|████████████████████████▏                        | 325/658 [08:42<09:19,  1.68s/it]"
     ]
    },
    {
     "name": "stdout",
     "output_type": "stream",
     "text": [
      "intersect: 15 / total 290\n"
     ]
    },
    {
     "name": "stderr",
     "output_type": "stream",
     "text": [
      "🔍 Checking WCS intersections:  49%|████████████████████████▏                        | 325/658 [08:42<09:19,  1.68s/it]"
     ]
    },
    {
     "name": "stdout",
     "output_type": "stream",
     "text": [
      "intersect: 15 / total 290\n"
     ]
    },
    {
     "name": "stderr",
     "output_type": "stream",
     "text": [
      "🔍 Checking WCS intersections:  49%|████████████████████████▏                        | 325/658 [08:42<09:19,  1.68s/it]"
     ]
    },
    {
     "name": "stdout",
     "output_type": "stream",
     "text": [
      "intersect: 15 / total 290\n"
     ]
    },
    {
     "name": "stderr",
     "output_type": "stream",
     "text": [
      "🔍 Checking WCS intersections:  50%|████████████████████████▎                        | 326/658 [08:42<08:52,  1.60s/it]"
     ]
    },
    {
     "name": "stdout",
     "output_type": "stream",
     "text": [
      "intersect: 15 / total 290\n"
     ]
    },
    {
     "name": "stderr",
     "output_type": "stream",
     "text": [
      "🔍 Checking WCS intersections:  50%|████████████████████████▎                        | 326/658 [08:43<08:52,  1.60s/it]"
     ]
    },
    {
     "name": "stdout",
     "output_type": "stream",
     "text": [
      "intersect: 15 / total 290\n"
     ]
    },
    {
     "name": "stderr",
     "output_type": "stream",
     "text": [
      "🔍 Checking WCS intersections:  50%|████████████████████████▎                        | 326/658 [08:43<08:52,  1.60s/it]"
     ]
    },
    {
     "name": "stdout",
     "output_type": "stream",
     "text": [
      "intersect: 15 / total 290\n"
     ]
    },
    {
     "name": "stderr",
     "output_type": "stream",
     "text": [
      "🔍 Checking WCS intersections:  50%|████████████████████████▎                        | 326/658 [08:43<08:52,  1.60s/it]"
     ]
    },
    {
     "name": "stdout",
     "output_type": "stream",
     "text": [
      "intersect: 15 / total 290\n"
     ]
    },
    {
     "name": "stderr",
     "output_type": "stream",
     "text": [
      "🔍 Checking WCS intersections:  50%|████████████████████████▎                        | 326/658 [08:44<08:52,  1.60s/it]"
     ]
    },
    {
     "name": "stdout",
     "output_type": "stream",
     "text": [
      "intersect: 15 / total 290\n"
     ]
    },
    {
     "name": "stderr",
     "output_type": "stream",
     "text": [
      "🔍 Checking WCS intersections:  50%|████████████████████████▎                        | 327/658 [08:44<08:27,  1.53s/it]"
     ]
    },
    {
     "name": "stdout",
     "output_type": "stream",
     "text": [
      "intersect: 15 / total 290\n"
     ]
    },
    {
     "name": "stderr",
     "output_type": "stream",
     "text": [
      "🔍 Checking WCS intersections:  50%|████████████████████████▎                        | 327/658 [08:44<08:27,  1.53s/it]"
     ]
    },
    {
     "name": "stdout",
     "output_type": "stream",
     "text": [
      "intersect: 15 / total 290\n"
     ]
    },
    {
     "name": "stderr",
     "output_type": "stream",
     "text": [
      "🔍 Checking WCS intersections:  50%|████████████████████████▎                        | 327/658 [08:44<08:27,  1.53s/it]"
     ]
    },
    {
     "name": "stdout",
     "output_type": "stream",
     "text": [
      "intersect: 15 / total 290\n"
     ]
    },
    {
     "name": "stderr",
     "output_type": "stream",
     "text": [
      "🔍 Checking WCS intersections:  50%|████████████████████████▎                        | 327/658 [08:45<08:27,  1.53s/it]"
     ]
    },
    {
     "name": "stdout",
     "output_type": "stream",
     "text": [
      "intersect: 15 / total 290\n"
     ]
    },
    {
     "name": "stderr",
     "output_type": "stream",
     "text": [
      "🔍 Checking WCS intersections:  50%|████████████████████████▎                        | 327/658 [08:45<08:27,  1.53s/it]"
     ]
    },
    {
     "name": "stdout",
     "output_type": "stream",
     "text": [
      "intersect: 15 / total 290\n"
     ]
    },
    {
     "name": "stderr",
     "output_type": "stream",
     "text": [
      "🔍 Checking WCS intersections:  50%|████████████████████████▍                        | 328/658 [08:45<08:16,  1.50s/it]"
     ]
    },
    {
     "name": "stdout",
     "output_type": "stream",
     "text": [
      "intersect: 15 / total 290\n"
     ]
    },
    {
     "name": "stderr",
     "output_type": "stream",
     "text": [
      "🔍 Checking WCS intersections:  50%|████████████████████████▍                        | 328/658 [08:46<08:16,  1.50s/it]"
     ]
    },
    {
     "name": "stdout",
     "output_type": "stream",
     "text": [
      "intersect: 15 / total 290\n"
     ]
    },
    {
     "name": "stderr",
     "output_type": "stream",
     "text": [
      "🔍 Checking WCS intersections:  50%|████████████████████████▍                        | 328/658 [08:46<08:16,  1.50s/it]"
     ]
    },
    {
     "name": "stdout",
     "output_type": "stream",
     "text": [
      "intersect: 15 / total 290\n"
     ]
    },
    {
     "name": "stderr",
     "output_type": "stream",
     "text": [
      "🔍 Checking WCS intersections:  50%|████████████████████████▍                        | 328/658 [08:46<08:16,  1.50s/it]"
     ]
    },
    {
     "name": "stdout",
     "output_type": "stream",
     "text": [
      "intersect: 15 / total 290\n"
     ]
    },
    {
     "name": "stderr",
     "output_type": "stream",
     "text": [
      "🔍 Checking WCS intersections:  50%|████████████████████████▍                        | 328/658 [08:47<08:16,  1.50s/it]"
     ]
    },
    {
     "name": "stdout",
     "output_type": "stream",
     "text": [
      "intersect: 15 / total 290\n"
     ]
    },
    {
     "name": "stderr",
     "output_type": "stream",
     "text": [
      "🔍 Checking WCS intersections:  50%|████████████████████████▌                        | 329/658 [08:47<08:15,  1.51s/it]"
     ]
    },
    {
     "name": "stdout",
     "output_type": "stream",
     "text": [
      "intersect: 15 / total 290\n"
     ]
    },
    {
     "name": "stderr",
     "output_type": "stream",
     "text": [
      "🔍 Checking WCS intersections:  50%|████████████████████████▌                        | 329/658 [08:47<08:15,  1.51s/it]"
     ]
    },
    {
     "name": "stdout",
     "output_type": "stream",
     "text": [
      "intersect: 15 / total 290\n"
     ]
    },
    {
     "name": "stderr",
     "output_type": "stream",
     "text": [
      "🔍 Checking WCS intersections:  50%|████████████████████████▌                        | 329/658 [08:47<08:15,  1.51s/it]"
     ]
    },
    {
     "name": "stdout",
     "output_type": "stream",
     "text": [
      "intersect: 15 / total 290\n"
     ]
    },
    {
     "name": "stderr",
     "output_type": "stream",
     "text": [
      "🔍 Checking WCS intersections:  50%|████████████████████████▌                        | 329/658 [08:48<08:15,  1.51s/it]"
     ]
    },
    {
     "name": "stdout",
     "output_type": "stream",
     "text": [
      "intersect: 15 / total 290\n"
     ]
    },
    {
     "name": "stderr",
     "output_type": "stream",
     "text": [
      "🔍 Checking WCS intersections:  50%|████████████████████████▌                        | 329/658 [08:48<08:15,  1.51s/it]"
     ]
    },
    {
     "name": "stdout",
     "output_type": "stream",
     "text": [
      "intersect: 15 / total 290\n"
     ]
    },
    {
     "name": "stderr",
     "output_type": "stream",
     "text": [
      "🔍 Checking WCS intersections:  50%|████████████████████████▌                        | 330/658 [08:48<08:09,  1.49s/it]"
     ]
    },
    {
     "name": "stdout",
     "output_type": "stream",
     "text": [
      "intersect: 15 / total 290\n"
     ]
    },
    {
     "name": "stderr",
     "output_type": "stream",
     "text": [
      "🔍 Checking WCS intersections:  50%|████████████████████████▌                        | 330/658 [08:49<08:09,  1.49s/it]"
     ]
    },
    {
     "name": "stdout",
     "output_type": "stream",
     "text": [
      "intersect: 15 / total 290\n"
     ]
    },
    {
     "name": "stderr",
     "output_type": "stream",
     "text": [
      "🔍 Checking WCS intersections:  52%|█████████████████████████▋                       | 345/658 [09:10<07:27,  1.43s/it]"
     ]
    },
    {
     "name": "stdout",
     "output_type": "stream",
     "text": [
      "intersect: 16 / total 300\n"
     ]
    },
    {
     "name": "stderr",
     "output_type": "stream",
     "text": [
      "🔍 Checking WCS intersections:  52%|█████████████████████████▋                       | 345/658 [09:11<07:27,  1.43s/it]"
     ]
    },
    {
     "name": "stdout",
     "output_type": "stream",
     "text": [
      "intersect: 16 / total 300\n"
     ]
    },
    {
     "name": "stderr",
     "output_type": "stream",
     "text": [
      "🔍 Checking WCS intersections:  52%|█████████████████████████▋                       | 345/658 [09:11<07:27,  1.43s/it]"
     ]
    },
    {
     "name": "stdout",
     "output_type": "stream",
     "text": [
      "intersect: 16 / total 300\n"
     ]
    },
    {
     "name": "stderr",
     "output_type": "stream",
     "text": [
      "🔍 Checking WCS intersections:  53%|█████████████████████████▊                       | 346/658 [09:11<07:31,  1.45s/it]"
     ]
    },
    {
     "name": "stdout",
     "output_type": "stream",
     "text": [
      "intersect: 16 / total 300\n"
     ]
    },
    {
     "name": "stderr",
     "output_type": "stream",
     "text": [
      "🔍 Checking WCS intersections:  53%|█████████████████████████▊                       | 346/658 [09:12<07:31,  1.45s/it]"
     ]
    },
    {
     "name": "stdout",
     "output_type": "stream",
     "text": [
      "intersect: 16 / total 300\n"
     ]
    },
    {
     "name": "stderr",
     "output_type": "stream",
     "text": [
      "🔍 Checking WCS intersections:  55%|███████████████████████████                      | 363/658 [09:38<07:23,  1.50s/it]"
     ]
    },
    {
     "name": "stdout",
     "output_type": "stream",
     "text": [
      "intersect: 16 / total 310\n"
     ]
    },
    {
     "name": "stderr",
     "output_type": "stream",
     "text": [
      "🔍 Checking WCS intersections:  55%|███████████████████████████                      | 363/658 [09:38<07:23,  1.50s/it]"
     ]
    },
    {
     "name": "stdout",
     "output_type": "stream",
     "text": [
      "intersect: 16 / total 310\n"
     ]
    },
    {
     "name": "stderr",
     "output_type": "stream",
     "text": [
      "🔍 Checking WCS intersections:  57%|███████████████████████████▋                     | 372/658 [09:51<07:03,  1.48s/it]"
     ]
    },
    {
     "name": "stdout",
     "output_type": "stream",
     "text": [
      "intersect: 16 / total 320\n"
     ]
    },
    {
     "name": "stderr",
     "output_type": "stream",
     "text": [
      "🔍 Checking WCS intersections:  57%|████████████████████████████                     | 377/658 [10:00<08:00,  1.71s/it]"
     ]
    },
    {
     "name": "stdout",
     "output_type": "stream",
     "text": [
      "intersect: 16 / total 330\n"
     ]
    },
    {
     "name": "stderr",
     "output_type": "stream",
     "text": [
      "🔍 Checking WCS intersections:  59%|████████████████████████████▊                    | 387/658 [10:15<08:12,  1.82s/it]"
     ]
    },
    {
     "name": "stdout",
     "output_type": "stream",
     "text": [
      "intersect: 16 / total 340\n"
     ]
    },
    {
     "name": "stderr",
     "output_type": "stream",
     "text": [
      "🔍 Checking WCS intersections:  61%|█████████████████████████████▋                   | 399/658 [10:34<06:24,  1.48s/it]"
     ]
    },
    {
     "name": "stdout",
     "output_type": "stream",
     "text": [
      "intersect: 16 / total 350\n"
     ]
    },
    {
     "name": "stderr",
     "output_type": "stream",
     "text": [
      "🔍 Checking WCS intersections:  63%|██████████████████████████████▉                  | 415/658 [10:59<05:54,  1.46s/it]"
     ]
    },
    {
     "name": "stdout",
     "output_type": "stream",
     "text": [
      "intersect: 16 / total 360\n"
     ]
    },
    {
     "name": "stderr",
     "output_type": "stream",
     "text": [
      "🔍 Checking WCS intersections:  63%|██████████████████████████████▉                  | 415/658 [10:59<05:54,  1.46s/it]"
     ]
    },
    {
     "name": "stdout",
     "output_type": "stream",
     "text": [
      "intersect: 16 / total 360\n"
     ]
    },
    {
     "name": "stderr",
     "output_type": "stream",
     "text": [
      "🔍 Checking WCS intersections:  63%|██████████████████████████████▉                  | 415/658 [10:59<05:54,  1.46s/it]"
     ]
    },
    {
     "name": "stdout",
     "output_type": "stream",
     "text": [
      "intersect: 16 / total 360\n"
     ]
    },
    {
     "name": "stderr",
     "output_type": "stream",
     "text": [
      "🔍 Checking WCS intersections:  63%|██████████████████████████████▉                  | 416/658 [11:00<06:00,  1.49s/it]"
     ]
    },
    {
     "name": "stdout",
     "output_type": "stream",
     "text": [
      "intersect: 16 / total 360\n"
     ]
    },
    {
     "name": "stderr",
     "output_type": "stream",
     "text": [
      "🔍 Checking WCS intersections:  63%|██████████████████████████████▉                  | 416/658 [11:00<06:00,  1.49s/it]"
     ]
    },
    {
     "name": "stdout",
     "output_type": "stream",
     "text": [
      "intersect: 16 / total 360\n"
     ]
    },
    {
     "name": "stderr",
     "output_type": "stream",
     "text": [
      "🔍 Checking WCS intersections:  63%|██████████████████████████████▉                  | 416/658 [11:00<06:00,  1.49s/it]"
     ]
    },
    {
     "name": "stdout",
     "output_type": "stream",
     "text": [
      "intersect: 16 / total 360\n"
     ]
    },
    {
     "name": "stderr",
     "output_type": "stream",
     "text": [
      "🔍 Checking WCS intersections:  63%|██████████████████████████████▉                  | 416/658 [11:01<06:00,  1.49s/it]"
     ]
    },
    {
     "name": "stdout",
     "output_type": "stream",
     "text": [
      "intersect: 16 / total 360\n"
     ]
    },
    {
     "name": "stderr",
     "output_type": "stream",
     "text": [
      "🔍 Checking WCS intersections:  63%|██████████████████████████████▉                  | 416/658 [11:01<06:00,  1.49s/it]"
     ]
    },
    {
     "name": "stdout",
     "output_type": "stream",
     "text": [
      "intersect: 16 / total 360\n"
     ]
    },
    {
     "name": "stderr",
     "output_type": "stream",
     "text": [
      "🔍 Checking WCS intersections:  63%|███████████████████████████████                  | 417/658 [11:01<05:56,  1.48s/it]"
     ]
    },
    {
     "name": "stdout",
     "output_type": "stream",
     "text": [
      "intersect: 16 / total 360\n"
     ]
    },
    {
     "name": "stderr",
     "output_type": "stream",
     "text": [
      "🔍 Checking WCS intersections:  63%|███████████████████████████████                  | 417/658 [11:01<05:56,  1.48s/it]"
     ]
    },
    {
     "name": "stdout",
     "output_type": "stream",
     "text": [
      "intersect: 16 / total 360\n"
     ]
    },
    {
     "name": "stderr",
     "output_type": "stream",
     "text": [
      "🔍 Checking WCS intersections:  63%|███████████████████████████████                  | 417/658 [11:02<05:56,  1.48s/it]"
     ]
    },
    {
     "name": "stdout",
     "output_type": "stream",
     "text": [
      "intersect: 16 / total 360\n"
     ]
    },
    {
     "name": "stderr",
     "output_type": "stream",
     "text": [
      "🔍 Checking WCS intersections:  63%|███████████████████████████████                  | 417/658 [11:02<05:56,  1.48s/it]"
     ]
    },
    {
     "name": "stdout",
     "output_type": "stream",
     "text": [
      "intersect: 16 / total 360\n"
     ]
    },
    {
     "name": "stderr",
     "output_type": "stream",
     "text": [
      "🔍 Checking WCS intersections:  63%|███████████████████████████████                  | 417/658 [11:02<05:56,  1.48s/it]"
     ]
    },
    {
     "name": "stdout",
     "output_type": "stream",
     "text": [
      "intersect: 16 / total 360\n"
     ]
    },
    {
     "name": "stderr",
     "output_type": "stream",
     "text": [
      "🔍 Checking WCS intersections:  64%|███████████████████████████████▏                 | 418/658 [11:03<05:58,  1.50s/it]"
     ]
    },
    {
     "name": "stdout",
     "output_type": "stream",
     "text": [
      "intersect: 16 / total 360\n"
     ]
    },
    {
     "name": "stderr",
     "output_type": "stream",
     "text": [
      "🔍 Checking WCS intersections:  64%|███████████████████████████████▏                 | 418/658 [11:03<05:58,  1.50s/it]"
     ]
    },
    {
     "name": "stdout",
     "output_type": "stream",
     "text": [
      "intersect: 16 / total 360\n"
     ]
    },
    {
     "name": "stderr",
     "output_type": "stream",
     "text": [
      "🔍 Checking WCS intersections:  64%|███████████████████████████████▏                 | 418/658 [11:03<05:58,  1.50s/it]"
     ]
    },
    {
     "name": "stdout",
     "output_type": "stream",
     "text": [
      "intersect: 16 / total 360\n"
     ]
    },
    {
     "name": "stderr",
     "output_type": "stream",
     "text": [
      "🔍 Checking WCS intersections:  64%|███████████████████████████████▏                 | 418/658 [11:04<05:58,  1.50s/it]"
     ]
    },
    {
     "name": "stdout",
     "output_type": "stream",
     "text": [
      "intersect: 16 / total 360\n"
     ]
    },
    {
     "name": "stderr",
     "output_type": "stream",
     "text": [
      "🔍 Checking WCS intersections:  64%|███████████████████████████████▏                 | 418/658 [11:04<05:58,  1.50s/it]"
     ]
    },
    {
     "name": "stdout",
     "output_type": "stream",
     "text": [
      "intersect: 16 / total 360\n"
     ]
    },
    {
     "name": "stderr",
     "output_type": "stream",
     "text": [
      "🔍 Checking WCS intersections:  64%|███████████████████████████████▏                 | 419/658 [11:04<05:48,  1.46s/it]"
     ]
    },
    {
     "name": "stdout",
     "output_type": "stream",
     "text": [
      "intersect: 16 / total 360\n"
     ]
    },
    {
     "name": "stderr",
     "output_type": "stream",
     "text": [
      "🔍 Checking WCS intersections:  64%|███████████████████████████████▌                 | 423/658 [11:13<06:19,  1.62s/it]"
     ]
    },
    {
     "name": "stdout",
     "output_type": "stream",
     "text": [
      "intersect: 16 / total 370\n"
     ]
    },
    {
     "name": "stderr",
     "output_type": "stream",
     "text": [
      "🔍 Checking WCS intersections:  67%|████████████████████████████████▋                | 439/658 [11:38<06:05,  1.67s/it]"
     ]
    },
    {
     "name": "stdout",
     "output_type": "stream",
     "text": [
      "intersect: 16 / total 380\n"
     ]
    },
    {
     "name": "stderr",
     "output_type": "stream",
     "text": [
      "🔍 Checking WCS intersections:  69%|█████████████████████████████████▊               | 454/658 [11:59<04:46,  1.40s/it]"
     ]
    },
    {
     "name": "stdout",
     "output_type": "stream",
     "text": [
      "intersect: 17 / total 390\n"
     ]
    },
    {
     "name": "stderr",
     "output_type": "stream",
     "text": [
      "🔍 Checking WCS intersections:  69%|█████████████████████████████████▊               | 454/658 [11:59<04:46,  1.40s/it]"
     ]
    },
    {
     "name": "stdout",
     "output_type": "stream",
     "text": [
      "intersect: 17 / total 390\n"
     ]
    },
    {
     "name": "stderr",
     "output_type": "stream",
     "text": [
      "🔍 Checking WCS intersections:  69%|██████████████████████████████████               | 457/658 [12:01<03:40,  1.10s/it]"
     ]
    },
    {
     "name": "stdout",
     "output_type": "stream",
     "text": [
      "⚠️ Axis label fetch failed, using fallback: 400 Client Error: Bad Request for url: https://api.ellipsis-drive.com/v3/ogc/wcs/94037eea-4196-48db-9f83-0ef330a7655e?service=WCS&version=2.0.1&request=DescribeCoverage&coverageId=7daaa215-4cd0-48cd-9484-2eb5cec674e1\n",
      "⚠️ Axis label fetch failed, using fallback: 400 Client Error: Bad Request for url: https://api.ellipsis-drive.com/v3/ogc/wcs/94037eea-4196-48db-9f83-0ef330a7655e?service=WCS&version=2.0.1&request=DescribeCoverage&coverageId=7daaa215-4cd0-48cd-9484-2eb5cec674e1\n",
      "⚠️ Axis label fetch failed, using fallback: 400 Client Error: Bad Request for url: https://api.ellipsis-drive.com/v3/ogc/wcs/94037eea-4196-48db-9f83-0ef330a7655e?service=WCS&version=2.0.1&request=DescribeCoverage&coverageId=7daaa215-4cd0-48cd-9484-2eb5cec674e1\n",
      "⚠️ Axis label fetch failed, using fallback: 400 Client Error: Bad Request for url: https://api.ellipsis-drive.com/v3/ogc/wcs/94037eea-4196-48db-9f83-0ef330a7655e?service=WCS&version=2.0.1&request=DescribeCoverage&coverageId=7daaa215-4cd0-48cd-9484-2eb5cec674e1\n"
     ]
    },
    {
     "name": "stderr",
     "output_type": "stream",
     "text": [
      "\r",
      "🔍 Checking WCS intersections:  70%|██████████████████████████████████               | 458/658 [12:02<03:18,  1.01it/s]"
     ]
    },
    {
     "name": "stdout",
     "output_type": "stream",
     "text": [
      "⚠️ Axis label fetch failed, using fallback: 400 Client Error: Bad Request for url: https://api.ellipsis-drive.com/v3/ogc/wcs/94037eea-4196-48db-9f83-0ef330a7655e?service=WCS&version=2.0.1&request=DescribeCoverage&coverageId=7daaa215-4cd0-48cd-9484-2eb5cec674e1\n"
     ]
    },
    {
     "name": "stderr",
     "output_type": "stream",
     "text": [
      "🔍 Checking WCS intersections:  71%|██████████████████████████████████▌              | 464/658 [12:10<04:57,  1.53s/it]"
     ]
    },
    {
     "name": "stdout",
     "output_type": "stream",
     "text": [
      "intersect: 18 / total 400\n"
     ]
    },
    {
     "name": "stderr",
     "output_type": "stream",
     "text": [
      "🔍 Checking WCS intersections:  73%|███████████████████████████████████▉             | 482/658 [12:38<04:18,  1.47s/it]"
     ]
    },
    {
     "name": "stdout",
     "output_type": "stream",
     "text": [
      "intersect: 19 / total 410\n"
     ]
    },
    {
     "name": "stderr",
     "output_type": "stream",
     "text": [
      "🔍 Checking WCS intersections:  74%|████████████████████████████████████▍            | 490/658 [12:49<04:17,  1.53s/it]"
     ]
    },
    {
     "name": "stdout",
     "output_type": "stream",
     "text": [
      "intersect: 19 / total 420\n"
     ]
    },
    {
     "name": "stderr",
     "output_type": "stream",
     "text": [
      "🔍 Checking WCS intersections:  74%|████████████████████████████████████▍            | 490/658 [12:49<04:17,  1.53s/it]"
     ]
    },
    {
     "name": "stdout",
     "output_type": "stream",
     "text": [
      "intersect: 19 / total 420\n"
     ]
    },
    {
     "name": "stderr",
     "output_type": "stream",
     "text": [
      "🔍 Checking WCS intersections:  74%|████████████████████████████████████▍            | 490/658 [12:50<04:17,  1.53s/it]"
     ]
    },
    {
     "name": "stdout",
     "output_type": "stream",
     "text": [
      "intersect: 19 / total 420\n"
     ]
    },
    {
     "name": "stderr",
     "output_type": "stream",
     "text": [
      "🔍 Checking WCS intersections:  74%|████████████████████████████████████▍            | 490/658 [12:50<04:17,  1.53s/it]"
     ]
    },
    {
     "name": "stdout",
     "output_type": "stream",
     "text": [
      "intersect: 19 / total 420\n"
     ]
    },
    {
     "name": "stderr",
     "output_type": "stream",
     "text": [
      "🔍 Checking WCS intersections:  74%|████████████████████████████████████▍            | 490/658 [12:50<04:17,  1.53s/it]"
     ]
    },
    {
     "name": "stdout",
     "output_type": "stream",
     "text": [
      "intersect: 19 / total 420\n"
     ]
    },
    {
     "name": "stderr",
     "output_type": "stream",
     "text": [
      "🔍 Checking WCS intersections:  75%|████████████████████████████████████▌            | 491/658 [12:51<04:09,  1.49s/it]"
     ]
    },
    {
     "name": "stdout",
     "output_type": "stream",
     "text": [
      "intersect: 19 / total 420\n"
     ]
    },
    {
     "name": "stderr",
     "output_type": "stream",
     "text": [
      "🔍 Checking WCS intersections:  75%|████████████████████████████████████▌            | 491/658 [12:51<04:09,  1.49s/it]"
     ]
    },
    {
     "name": "stdout",
     "output_type": "stream",
     "text": [
      "intersect: 19 / total 420\n"
     ]
    },
    {
     "name": "stderr",
     "output_type": "stream",
     "text": [
      "🔍 Checking WCS intersections:  76%|█████████████████████████████████████            | 497/658 [13:03<06:29,  2.42s/it]"
     ]
    },
    {
     "name": "stdout",
     "output_type": "stream",
     "text": [
      "intersect: 19 / total 430\n"
     ]
    },
    {
     "name": "stderr",
     "output_type": "stream",
     "text": [
      "🔍 Checking WCS intersections:  76%|█████████████████████████████████████            | 497/658 [13:03<06:29,  2.42s/it]"
     ]
    },
    {
     "name": "stdout",
     "output_type": "stream",
     "text": [
      "intersect: 19 / total 430\n"
     ]
    },
    {
     "name": "stderr",
     "output_type": "stream",
     "text": [
      "🔍 Checking WCS intersections:  78%|██████████████████████████████████████▍          | 516/658 [13:32<03:25,  1.45s/it]"
     ]
    },
    {
     "name": "stdout",
     "output_type": "stream",
     "text": [
      "intersect: 19 / total 440\n"
     ]
    },
    {
     "name": "stderr",
     "output_type": "stream",
     "text": [
      "🔍 Checking WCS intersections:  80%|███████████████████████████████████████▍         | 529/658 [13:50<03:00,  1.40s/it]"
     ]
    },
    {
     "name": "stdout",
     "output_type": "stream",
     "text": [
      "intersect: 20 / total 450\n"
     ]
    },
    {
     "name": "stderr",
     "output_type": "stream",
     "text": [
      "🔍 Checking WCS intersections:  81%|███████████████████████████████████████▉         | 536/658 [14:01<03:29,  1.72s/it]"
     ]
    },
    {
     "name": "stdout",
     "output_type": "stream",
     "text": [
      "intersect: 20 / total 460\n"
     ]
    },
    {
     "name": "stderr",
     "output_type": "stream",
     "text": [
      "🔍 Checking WCS intersections:  83%|████████████████████████████████████████▌        | 545/658 [14:14<02:01,  1.07s/it]"
     ]
    },
    {
     "name": "stdout",
     "output_type": "stream",
     "text": [
      "intersect: 22 / total 470\n"
     ]
    },
    {
     "name": "stderr",
     "output_type": "stream",
     "text": [
      "🔍 Checking WCS intersections:  84%|█████████████████████████████████████████        | 552/658 [14:24<02:52,  1.63s/it]"
     ]
    },
    {
     "name": "stdout",
     "output_type": "stream",
     "text": [
      "intersect: 22 / total 480\n"
     ]
    },
    {
     "name": "stderr",
     "output_type": "stream",
     "text": [
      "🔍 Checking WCS intersections:  84%|█████████████████████████████████████████▎       | 555/658 [14:30<02:48,  1.64s/it]"
     ]
    },
    {
     "name": "stdout",
     "output_type": "stream",
     "text": [
      "intersect: 22 / total 490\n"
     ]
    },
    {
     "name": "stderr",
     "output_type": "stream",
     "text": [
      "🔍 Checking WCS intersections:  85%|█████████████████████████████████████████▍       | 557/658 [14:34<03:10,  1.88s/it]"
     ]
    },
    {
     "name": "stdout",
     "output_type": "stream",
     "text": [
      "intersect: 22 / total 500\n"
     ]
    },
    {
     "name": "stderr",
     "output_type": "stream",
     "text": [
      "🔍 Checking WCS intersections:  85%|█████████████████████████████████████████▊       | 562/658 [14:43<02:33,  1.60s/it]"
     ]
    },
    {
     "name": "stdout",
     "output_type": "stream",
     "text": [
      "intersect: 22 / total 510\n"
     ]
    },
    {
     "name": "stderr",
     "output_type": "stream",
     "text": [
      "\r",
      "🔍 Checking WCS intersections:  86%|█████████████████████████████████████████▉       | 563/658 [14:44<02:55,  1.85s/it]"
     ]
    },
    {
     "name": "stdout",
     "output_type": "stream",
     "text": [
      "⚠️ Axis label fetch failed, using fallback: 400 Client Error: Bad Request for url: https://api.ellipsis-drive.com/v3/ogc/wcs/e96b10b9-e964-414c-958c-57a9dbe24e62?service=WCS&version=2.0.1&request=DescribeCoverage&coverageId=f380e0a0-4446-4d79-b2d1-3d4df40cbc93\n",
      "⚠️ Axis label fetch failed, using fallback: 400 Client Error: Bad Request for url: https://api.ellipsis-drive.com/v3/ogc/wcs/e96b10b9-e964-414c-958c-57a9dbe24e62?service=WCS&version=2.0.1&request=DescribeCoverage&coverageId=f380e0a0-4446-4d79-b2d1-3d4df40cbc93\n",
      "⚠️ Axis label fetch failed, using fallback: 400 Client Error: Bad Request for url: https://api.ellipsis-drive.com/v3/ogc/wcs/e96b10b9-e964-414c-958c-57a9dbe24e62?service=WCS&version=2.0.1&request=DescribeCoverage&coverageId=f380e0a0-4446-4d79-b2d1-3d4df40cbc93\n",
      "⚠️ Axis label fetch failed, using fallback: 400 Client Error: Bad Request for url: https://api.ellipsis-drive.com/v3/ogc/wcs/e96b10b9-e964-414c-958c-57a9dbe24e62?service=WCS&version=2.0.1&request=DescribeCoverage&coverageId=f380e0a0-4446-4d79-b2d1-3d4df40cbc93\n"
     ]
    },
    {
     "name": "stderr",
     "output_type": "stream",
     "text": [
      "\r",
      "🔍 Checking WCS intersections:  86%|██████████████████████████████████████████       | 564/658 [14:44<02:22,  1.52s/it]"
     ]
    },
    {
     "name": "stdout",
     "output_type": "stream",
     "text": [
      "⚠️ Axis label fetch failed, using fallback: 400 Client Error: Bad Request for url: https://api.ellipsis-drive.com/v3/ogc/wcs/e96b10b9-e964-414c-958c-57a9dbe24e62?service=WCS&version=2.0.1&request=DescribeCoverage&coverageId=f380e0a0-4446-4d79-b2d1-3d4df40cbc93\n"
     ]
    },
    {
     "name": "stderr",
     "output_type": "stream",
     "text": [
      "🔍 Checking WCS intersections:  87%|██████████████████████████████████████████▋      | 574/658 [15:00<02:06,  1.51s/it]"
     ]
    },
    {
     "name": "stdout",
     "output_type": "stream",
     "text": [
      "intersect: 23 / total 520\n"
     ]
    },
    {
     "name": "stderr",
     "output_type": "stream",
     "text": [
      "🔍 Checking WCS intersections:  90%|████████████████████████████████████████████     | 591/658 [15:24<01:40,  1.50s/it]"
     ]
    },
    {
     "name": "stdout",
     "output_type": "stream",
     "text": [
      "intersect: 25 / total 530\n"
     ]
    },
    {
     "name": "stderr",
     "output_type": "stream",
     "text": [
      "🔍 Checking WCS intersections:  91%|████████████████████████████████████████████▌    | 598/658 [15:35<01:18,  1.30s/it]"
     ]
    },
    {
     "name": "stdout",
     "output_type": "stream",
     "text": [
      "intersect: 25 / total 540\n"
     ]
    },
    {
     "name": "stderr",
     "output_type": "stream",
     "text": [
      "🔍 Checking WCS intersections:  91%|████████████████████████████████████████████▌    | 598/658 [15:35<01:18,  1.30s/it]"
     ]
    },
    {
     "name": "stdout",
     "output_type": "stream",
     "text": [
      "intersect: 25 / total 540\n"
     ]
    },
    {
     "name": "stderr",
     "output_type": "stream",
     "text": [
      "🔍 Checking WCS intersections:  91%|████████████████████████████████████████████▌    | 598/658 [15:35<01:18,  1.30s/it]"
     ]
    },
    {
     "name": "stdout",
     "output_type": "stream",
     "text": [
      "intersect: 25 / total 540\n"
     ]
    },
    {
     "name": "stderr",
     "output_type": "stream",
     "text": [
      "🔍 Checking WCS intersections:  91%|████████████████████████████████████████████▌    | 599/658 [15:36<01:18,  1.32s/it]"
     ]
    },
    {
     "name": "stdout",
     "output_type": "stream",
     "text": [
      "intersect: 25 / total 540\n"
     ]
    },
    {
     "name": "stderr",
     "output_type": "stream",
     "text": [
      "🔍 Checking WCS intersections:  91%|████████████████████████████████████████████▌    | 599/658 [15:36<01:18,  1.32s/it]"
     ]
    },
    {
     "name": "stdout",
     "output_type": "stream",
     "text": [
      "intersect: 25 / total 540\n"
     ]
    },
    {
     "name": "stderr",
     "output_type": "stream",
     "text": [
      "🔍 Checking WCS intersections:  96%|██████████████████████████████████████████████▉  | 630/658 [16:22<00:29,  1.06s/it]"
     ]
    },
    {
     "name": "stdout",
     "output_type": "stream",
     "text": [
      "intersect: 27 / total 550\n"
     ]
    },
    {
     "name": "stderr",
     "output_type": "stream",
     "text": [
      "🔍 Checking WCS intersections:  96%|██████████████████████████████████████████████▉  | 630/658 [16:22<00:29,  1.06s/it]"
     ]
    },
    {
     "name": "stdout",
     "output_type": "stream",
     "text": [
      "intersect: 27 / total 550\n"
     ]
    },
    {
     "name": "stderr",
     "output_type": "stream",
     "text": [
      "🔍 Checking WCS intersections:  96%|██████████████████████████████████████████████▉  | 630/658 [16:22<00:29,  1.06s/it]"
     ]
    },
    {
     "name": "stdout",
     "output_type": "stream",
     "text": [
      "intersect: 27 / total 550\n"
     ]
    },
    {
     "name": "stderr",
     "output_type": "stream",
     "text": [
      "🔍 Checking WCS intersections:  96%|██████████████████████████████████████████████▉  | 631/658 [16:22<00:32,  1.19s/it]"
     ]
    },
    {
     "name": "stdout",
     "output_type": "stream",
     "text": [
      "intersect: 27 / total 550\n"
     ]
    },
    {
     "name": "stderr",
     "output_type": "stream",
     "text": [
      "🔍 Checking WCS intersections:  96%|██████████████████████████████████████████████▉  | 631/658 [16:23<00:32,  1.19s/it]"
     ]
    },
    {
     "name": "stdout",
     "output_type": "stream",
     "text": [
      "intersect: 27 / total 550\n"
     ]
    },
    {
     "name": "stderr",
     "output_type": "stream",
     "text": [
      "🔍 Checking WCS intersections:  96%|██████████████████████████████████████████████▉  | 631/658 [16:23<00:32,  1.19s/it]"
     ]
    },
    {
     "name": "stdout",
     "output_type": "stream",
     "text": [
      "intersect: 27 / total 550\n"
     ]
    },
    {
     "name": "stderr",
     "output_type": "stream",
     "text": [
      "🔍 Checking WCS intersections:  96%|██████████████████████████████████████████████▉  | 631/658 [16:23<00:32,  1.19s/it]"
     ]
    },
    {
     "name": "stdout",
     "output_type": "stream",
     "text": [
      "intersect: 27 / total 550\n"
     ]
    },
    {
     "name": "stderr",
     "output_type": "stream",
     "text": [
      "🔍 Checking WCS intersections:  96%|██████████████████████████████████████████████▉  | 631/658 [16:24<00:32,  1.19s/it]"
     ]
    },
    {
     "name": "stdout",
     "output_type": "stream",
     "text": [
      "intersect: 27 / total 550\n"
     ]
    },
    {
     "name": "stderr",
     "output_type": "stream",
     "text": [
      "🔍 Checking WCS intersections:  96%|███████████████████████████████████████████████  | 632/658 [16:24<00:33,  1.30s/it]"
     ]
    },
    {
     "name": "stdout",
     "output_type": "stream",
     "text": [
      "intersect: 27 / total 550\n"
     ]
    },
    {
     "name": "stderr",
     "output_type": "stream",
     "text": [
      "🔍 Checking WCS intersections:  96%|███████████████████████████████████████████████  | 632/658 [16:24<00:33,  1.30s/it]"
     ]
    },
    {
     "name": "stdout",
     "output_type": "stream",
     "text": [
      "intersect: 27 / total 550\n"
     ]
    },
    {
     "name": "stderr",
     "output_type": "stream",
     "text": [
      "🔍 Checking WCS intersections:  98%|███████████████████████████████████████████████▊ | 642/658 [16:38<00:23,  1.47s/it]"
     ]
    },
    {
     "name": "stdout",
     "output_type": "stream",
     "text": [
      "intersect: 28 / total 560\n"
     ]
    },
    {
     "name": "stderr",
     "output_type": "stream",
     "text": [
      "🔍 Checking WCS intersections:  98%|███████████████████████████████████████████████▊ | 642/658 [16:39<00:23,  1.47s/it]"
     ]
    },
    {
     "name": "stdout",
     "output_type": "stream",
     "text": [
      "intersect: 28 / total 560\n"
     ]
    },
    {
     "name": "stderr",
     "output_type": "stream",
     "text": [
      "🔍 Checking WCS intersections:  98%|███████████████████████████████████████████████▊ | 642/658 [16:39<00:23,  1.47s/it]"
     ]
    },
    {
     "name": "stdout",
     "output_type": "stream",
     "text": [
      "intersect: 28 / total 560\n"
     ]
    },
    {
     "name": "stderr",
     "output_type": "stream",
     "text": [
      "🔍 Checking WCS intersections:  98%|███████████████████████████████████████████████▉ | 643/658 [16:39<00:22,  1.48s/it]"
     ]
    },
    {
     "name": "stdout",
     "output_type": "stream",
     "text": [
      "intersect: 28 / total 560\n"
     ]
    },
    {
     "name": "stderr",
     "output_type": "stream",
     "text": [
      "🔍 Checking WCS intersections:  98%|███████████████████████████████████████████████▉ | 643/658 [16:39<00:22,  1.48s/it]"
     ]
    },
    {
     "name": "stdout",
     "output_type": "stream",
     "text": [
      "intersect: 28 / total 560\n"
     ]
    },
    {
     "name": "stderr",
     "output_type": "stream",
     "text": [
      "🔍 Checking WCS intersections: 100%|████████████████████████████████████████████████▊| 655/658 [16:59<00:04,  1.50s/it]"
     ]
    },
    {
     "name": "stdout",
     "output_type": "stream",
     "text": [
      "intersect: 28 / total 570\n"
     ]
    },
    {
     "name": "stderr",
     "output_type": "stream",
     "text": [
      "🔍 Checking WCS intersections: 100%|█████████████████████████████████████████████████| 658/658 [17:03<00:00,  1.56s/it]\n"
     ]
    }
   ],
   "source": [
    "df_wcs_sf2 = detect_coverage_intersections(df_wcs_sf1_clean, points) "
   ]
  },
  {
   "cell_type": "markdown",
   "id": "3c6ca845",
   "metadata": {},
   "source": [
    "**Filtering for Intersecting Data - 2**"
   ]
  },
  {
   "cell_type": "code",
   "execution_count": 72,
   "id": "ffff11bc",
   "metadata": {},
   "outputs": [],
   "source": [
    "df_wcs_sf2_clean = df_wcs_sf2[df_wcs_sf2['intersects_outline_2']==True]"
   ]
  },
  {
   "cell_type": "markdown",
   "id": "7b1f6d05",
   "metadata": {},
   "source": [
    "**Checkpoint 03 sf2 (wcs):**"
   ]
  },
  {
   "cell_type": "code",
   "execution_count": 73,
   "id": "91fa6374",
   "metadata": {},
   "outputs": [],
   "source": [
    "# Saving\n",
    "df_wcs_sf2_clean.to_csv(\"checkpoint03_sf2_ngr_WCS_metadata.csv\", index=False)"
   ]
  },
  {
   "cell_type": "markdown",
   "id": "5d055b0e",
   "metadata": {},
   "source": [
    "#### WFS:\n",
    "Inspecting presence of data within the Veluwe outline by requesting **GetFeature** and **resultType': 'hits'** and sending the Veluwe bounding box. "
   ]
  },
  {
   "cell_type": "code",
   "execution_count": 74,
   "id": "93f78b12",
   "metadata": {},
   "outputs": [],
   "source": [
    "def get_base_wfs_url(full_url):\n",
    "    parsed = urlparse(full_url)\n",
    "    return urlunparse((parsed.scheme, parsed.netloc, parsed.path, '', '', ''))"
   ]
  },
  {
   "cell_type": "code",
   "execution_count": 75,
   "id": "51d69069",
   "metadata": {},
   "outputs": [],
   "source": [
    "def feature_exists_in_bbox(\n",
    "    wfs_base_url,\n",
    "    layer_name,\n",
    "    bbox,\n",
    "    crs='EPSG:28992',\n",
    "    verbose=False\n",
    "):\n",
    "    \"\"\"\n",
    "    Checks whether a WFS layer contains at least one feature within the given bounding box.\n",
    "\n",
    "    Parameters:\n",
    "        wfs_base_url (str): Base WFS URL (without query parameters).\n",
    "        layer_name (str): Feature type name (e.g., 'ank:d5b_beregeningslocaties').\n",
    "        bbox (list): [xmin, ymin, xmax, ymax] in the specified CRS.\n",
    "        crs (str): CRS of the BBOX (default 'EPSG:28992').\n",
    "        verbose (bool): Print debug output.\n",
    "\n",
    "    Returns:\n",
    "        bool: True if at least one feature is found in the BBOX.\n",
    "    \"\"\"\n",
    "    wfs_base_url = get_base_wfs_url(wfs_base_url)\n",
    "    \n",
    "    def build_url(version):\n",
    "        bbox_str = ','.join(map(str, bbox))\n",
    "        if version == \"2.0.0\":\n",
    "            # Convert EPSG:XXXX to URN format if needed\n",
    "            if crs.upper().startswith(\"EPSG:\"):\n",
    "                urn_crs = f\"urn:ogc:def:crs:{crs.replace(':', '::')}\"\n",
    "            else:\n",
    "                urn_crs = crs\n",
    "            bbox_str += f\",{urn_crs}\"\n",
    "            params = {\n",
    "                'service': 'WFS',\n",
    "                'version': version,\n",
    "                'request': 'GetFeature',\n",
    "                'typenames': layer_name,\n",
    "                'resultType': 'hits',\n",
    "                'bbox': bbox_str\n",
    "            }\n",
    "        else:\n",
    "            # WFS 1.1.0 does not accept CRS in bbox\n",
    "            params = {\n",
    "                'service': 'WFS',\n",
    "                'version': version,\n",
    "                'request': 'GetFeature',\n",
    "                'typeName': layer_name,\n",
    "                'resultType': 'hits',\n",
    "                'bbox': bbox_str\n",
    "            }\n",
    "        return f\"{wfs_base_url}?{urlencode(params)}\", version\n",
    "\n",
    "    for version in [\"2.0.0\", \"1.1.0\"]:\n",
    "        url, version_used = build_url(version)\n",
    "        if verbose:\n",
    "            print(f\"\\n🌍 Checking WFS {version_used}\")\n",
    "            print(f\"🔗 {url}\")\n",
    "\n",
    "        try:\n",
    "            r = requests.get(url, timeout=20)\n",
    "            r.raise_for_status()\n",
    "            if verbose:\n",
    "                print(f\"📥 Response code: {r.status_code}\")\n",
    "                print(f\"📄 First 300 chars:\\n{r.text[:300]}\")\n",
    "\n",
    "            tree = etree.fromstring(r.content)\n",
    "            if version == \"2.0.0\":\n",
    "                count = tree.attrib.get(\"numberMatched\")\n",
    "            else:\n",
    "                count = tree.attrib.get(\"numberOfFeatures\")\n",
    "\n",
    "            if verbose:\n",
    "                print(f\"📊 Feature count: {count}\")\n",
    "\n",
    "            if count and int(count) > 0:\n",
    "                print(\"✅ Features found in BBOX.\")\n",
    "                return True\n",
    "\n",
    "        except Exception as e:\n",
    "            print(f\"❌ Error with WFS {version_used}: {e}\")\n",
    "            continue\n",
    "\n",
    "    print(\"❌ No features found or all requests failed.\")\n",
    "    return False\n",
    "\n",
    "# Detect intersections:\n",
    "\n",
    "def detect_feature_intersections(df, bbox):\n",
    "    \"\"\"\n",
    "    Text\n",
    "    \"\"\"\n",
    "    counter = {\"valid\": 0, \"notvalid\": 0}\n",
    "    \n",
    "    # Initialize the result column\n",
    "    df.loc[:, \"intersects_outline_2\"] = False\n",
    "\n",
    "    # Iterate with a progress bar\n",
    "    for idx in tqdm(df.index, desc=\"Checking WFS intersections\"):\n",
    "        try:\n",
    "            row = df.loc[idx]\n",
    "            \n",
    "            wfs_base_url = df.loc[idx,'wfs_getcapabilities_url']\n",
    "            #print(wfs_base_url)\n",
    "            layer_name = df.loc[idx,'layer']\n",
    "            \n",
    "            found = feature_exists_in_bbox(wfs_base_url=wfs_base_url, layer_name=layer_name, bbox=bbox)\n",
    "            print(found)\n",
    "            df.at[idx, \"intersects_outline_2\"] = found\n",
    "\n",
    "        except Exception as e:\n",
    "            #print(f\"Error on row {idx}: {e}\")\n",
    "            df.at[idx, \"intersects_outline_2\"] = False  # Optional: or leave as NaN\n",
    "\n",
    "    return df\n"
   ]
  },
  {
   "cell_type": "code",
   "execution_count": 76,
   "id": "b38ad9e8",
   "metadata": {},
   "outputs": [],
   "source": [
    "def get_base_wfs_url(full_url):\n",
    "    parsed = urlparse(full_url)\n",
    "    return urlunparse((parsed.scheme, parsed.netloc, parsed.path, '', '', ''))\n",
    "\n",
    "def feature_exists_in_bbox(\n",
    "    wfs_base_url,\n",
    "    layer_name,\n",
    "    bbox,\n",
    "    crs='EPSG:28992'\n",
    "):\n",
    "    wfs_base_url = get_base_wfs_url(wfs_base_url)\n",
    "\n",
    "    def build_url(version):\n",
    "        bbox_str = ','.join(map(str, bbox))\n",
    "        if version == \"2.0.0\":\n",
    "            if crs.upper().startswith(\"EPSG:\"):\n",
    "                urn_crs = f\"urn:ogc:def:crs:{crs.replace(':', '::')}\"\n",
    "            else:\n",
    "                urn_crs = crs\n",
    "            bbox_str += f\",{urn_crs}\"\n",
    "            params = {\n",
    "                'service': 'WFS',\n",
    "                'version': version,\n",
    "                'request': 'GetFeature',\n",
    "                'typenames': layer_name,\n",
    "                'resultType': 'hits',\n",
    "                'bbox': bbox_str\n",
    "            }\n",
    "        else:\n",
    "            params = {\n",
    "                'service': 'WFS',\n",
    "                'version': version,\n",
    "                'request': 'GetFeature',\n",
    "                'typeName': layer_name,\n",
    "                'resultType': 'hits',\n",
    "                'bbox': bbox_str\n",
    "            }\n",
    "        return f\"{wfs_base_url}?{urlencode(params)}\"\n",
    "\n",
    "    for version in [\"2.0.0\", \"1.1.0\"]:\n",
    "        url = build_url(version)\n",
    "        try:\n",
    "            r = requests.get(url, timeout=20)\n",
    "            r.raise_for_status()\n",
    "            tree = etree.fromstring(r.content)\n",
    "            count = tree.attrib.get(\"numberMatched\") if version == \"2.0.0\" else tree.attrib.get(\"numberOfFeatures\")\n",
    "            if count and int(count) > 0:\n",
    "                return True\n",
    "        except:\n",
    "            continue\n",
    "    return False\n",
    "\n",
    "def detect_feature_intersections(df, bbox):\n",
    "    df = df.copy()\n",
    "    df[\"intersects_outline_2\"] = False\n",
    "    valid_count = 0\n",
    "\n",
    "    for idx in tqdm(df.index, desc=\"Checking WFS intersections\"):\n",
    "        try:\n",
    "            row = df.loc[idx]\n",
    "            wfs_base_url = row['wfs_getcapabilities_url']\n",
    "            layer_name = row['layer']\n",
    "            found = feature_exists_in_bbox(wfs_base_url, layer_name, bbox)\n",
    "            df.at[idx, \"intersects_outline_2\"] = found\n",
    "            if found:\n",
    "                valid_count += 1\n",
    "        except:\n",
    "            df.at[idx, \"intersects_outline_2\"] = False\n",
    "\n",
    "    total_checked = len(df)\n",
    "    print(f\"\\n✅ Valid intersections: {valid_count} / {total_checked}\")\n",
    "    return df\n"
   ]
  },
  {
   "cell_type": "code",
   "execution_count": 77,
   "id": "da3dba6e",
   "metadata": {},
   "outputs": [
    {
     "name": "stderr",
     "output_type": "stream",
     "text": [
      "Checking WFS intersections: 100%|██████████████████████████████████████████████████| 2001/2001 [15:18<00:00,  2.18it/s]"
     ]
    },
    {
     "name": "stdout",
     "output_type": "stream",
     "text": [
      "\n",
      "✅ Valid intersections: 1289 / 2001\n"
     ]
    },
    {
     "name": "stderr",
     "output_type": "stream",
     "text": [
      "\n"
     ]
    }
   ],
   "source": [
    "df_wfs_sf2 = detect_feature_intersections(df_wfs_sf1_clean, bbox = veluwe28992.total_bounds)"
   ]
  },
  {
   "cell_type": "markdown",
   "id": "db476d1f",
   "metadata": {},
   "source": [
    "**Filtering for Intersecting Data - 2**"
   ]
  },
  {
   "cell_type": "code",
   "execution_count": 78,
   "id": "f64ae790",
   "metadata": {},
   "outputs": [],
   "source": [
    "df_wfs_sf2_clean = df_wfs_sf2[df_wfs_sf2['intersects_outline_2']==True]"
   ]
  },
  {
   "cell_type": "markdown",
   "id": "5e37dd44",
   "metadata": {},
   "source": [
    "**Checkpoint 03 sf2 (wfs):**"
   ]
  },
  {
   "cell_type": "code",
   "execution_count": 79,
   "id": "761d23a2",
   "metadata": {},
   "outputs": [],
   "source": [
    "# Saving\n",
    "df_wfs_sf2_clean.to_csv(\"checkpoint03_sf2_ngr_WFS_metadata.csv\", index=False)"
   ]
  },
  {
   "cell_type": "markdown",
   "id": "25d73dcf",
   "metadata": {},
   "source": [
    "### 1.4. Content-based filter:\n",
    "Matching input words with **keywords** & **abstract**."
   ]
  },
  {
   "cell_type": "markdown",
   "id": "48b46902",
   "metadata": {},
   "source": [
    "**Functions**"
   ]
  },
  {
   "cell_type": "code",
   "execution_count": 80,
   "id": "ca7aa3ed",
   "metadata": {},
   "outputs": [],
   "source": [
    "# Function to add words from the column \"abstract\" to the \"keywords\"\n",
    "\n",
    "def enrich_keywords_with_abstract(df: pd.DataFrame) -> pd.DataFrame:\n",
    "    \"\"\"\n",
    "    Create a new column 'keywords_+' that merges the existing keywords in\n",
    "    'keywords' with all alphanumeric tokens from 'abstract', separated by\n",
    "    semicolons. The original 'keywords' column is left unchanged.\n",
    "\n",
    "    Parameters\n",
    "    ----------\n",
    "    df : pd.DataFrame\n",
    "        DataFrame containing at least 'keywords' and 'abstract' columns.\n",
    "\n",
    "    Returns\n",
    "    -------\n",
    "    pd.DataFrame\n",
    "        A copy of the input DataFrame with an additional 'keywords_+' column.\n",
    "    \"\"\"\n",
    "    df = df.copy()  # avoid mutating the caller’s DataFrame\n",
    "\n",
    "    def build_keywords_plus(row):\n",
    "        # Parse the existing keywords\n",
    "        existing_keywords = (\n",
    "            row[\"keywords\"].split(\";\") if pd.notna(row[\"keywords\"]) else []\n",
    "        )\n",
    "\n",
    "        # Tokenize the abstract (alphanumeric only)\n",
    "        abstract_words = (\n",
    "            re.findall(r\"\\b\\w+\\b\", row[\"abstract\"].lower())\n",
    "            if pd.notna(row[\"abstract\"])\n",
    "            else []\n",
    "        )\n",
    "\n",
    "        # Combine, deduplicate, and sort\n",
    "        all_terms = [kw.strip() for kw in existing_keywords + abstract_words if kw.strip()]\n",
    "        return \";\".join(sorted(set(all_terms)))\n",
    "\n",
    "    # Apply row-wise\n",
    "    df[\"keywords_+\"] = df.apply(build_keywords_plus, axis=1)\n",
    "\n",
    "    return df\n",
    "\n",
    "# Function to match words from the list (input) to the metadata data frame\n",
    "\n",
    "def flag_fuzzy_keyword_matches(df, word_list, threshold=80):\n",
    "    \"\"\"\n",
    "    Add a boolean column `has_fuzzy_keyword_match` to the DataFrame, where True indicates\n",
    "    that at least one word from `word_list` matches a keyword in the 'keywords' column\n",
    "    with a fuzzy ratio ≥ `threshold`.\n",
    "\n",
    "    Parameters:\n",
    "        df (pd.DataFrame): DataFrame with a 'keywords' column.\n",
    "        word_list (list): List of words to match against.\n",
    "        threshold (int): Minimum fuzzy match ratio (default: 80).\n",
    "    \"\"\"\n",
    "\n",
    "    def match_keywords(cell):\n",
    "        if pd.isna(cell):\n",
    "            return False\n",
    "        keywords = [kw.strip().lower() for kw in str(cell).split(';') if kw.strip()]\n",
    "        for word in word_list:\n",
    "            word = word.lower()\n",
    "            for kw in keywords:\n",
    "                if fuzz.ratio(word, kw) >= threshold:\n",
    "                    return True\n",
    "        return False\n",
    "\n",
    "    df[\"has_fuzzy_keyword_match\"] = df[\"keywords_+\"].apply(match_keywords)\n",
    "    return df\n"
   ]
  },
  {
   "cell_type": "code",
   "execution_count": 81,
   "id": "e74c2ebc",
   "metadata": {},
   "outputs": [],
   "source": [
    "#df_wcs_sf2_clean = pd.read_csv(\"checkpoint03_sf2_ngr_WCS_metadata.csv\")\n",
    "#df_wfs_sf2_clean = pd.read_csv(\"checkpoint03_sf2_ngr_WFS_metadata.csv\")"
   ]
  },
  {
   "cell_type": "markdown",
   "id": "5a3ebad7",
   "metadata": {},
   "source": [
    "**Executing functions:**"
   ]
  },
  {
   "cell_type": "code",
   "execution_count": 82,
   "id": "d79a3fe0",
   "metadata": {},
   "outputs": [],
   "source": [
    "word_list = [\"landgebruik\", \"paden\", \"recreatievoorzieningen\", \"recreatie\", \"wegen\", \"barrières\", \"recreatiedichtheid\",\n",
    "\"leefgebieden\", \"wildbeheer\", \"terrein eigenaars\", \"eigenaars\", \"roodwild\", \"tellingen\", \"wolf\", \"vegetatiekaarten\", \n",
    "\"vegetatie\", \"Recreatiezoneringsmaatregelen\"]\n",
    "\n",
    "#word_list = [\"vegetation\"]"
   ]
  },
  {
   "cell_type": "code",
   "execution_count": 83,
   "id": "57702994",
   "metadata": {},
   "outputs": [
    {
     "name": "stdout",
     "output_type": "stream",
     "text": [
      "Content-based filtering for WCS records completed in 0.24 seconds.\n"
     ]
    }
   ],
   "source": [
    "# WCS\n",
    "start = time.time()\n",
    "df_wcs_sf2_clean = enrich_keywords_with_abstract(df_wcs_sf2_clean)\n",
    "df_wcs_sf2_cf = flag_fuzzy_keyword_matches(df_wcs_sf2_clean, word_list)\n",
    "df_wcs_sf2_cf_clean = df_wcs_sf2_cf[df_wcs_sf2_cf['has_fuzzy_keyword_match']==True]\n",
    "end = time.time()\n",
    "print(f\"Content-based filtering for WCS records completed in {end - start:.2f} seconds.\")"
   ]
  },
  {
   "cell_type": "code",
   "execution_count": 84,
   "id": "8cbde809",
   "metadata": {},
   "outputs": [
    {
     "name": "stdout",
     "output_type": "stream",
     "text": [
      "Content-based filtering for WFS records completed in 12.76 seconds.\n"
     ]
    }
   ],
   "source": [
    "# WFS\n",
    "start = time.time()\n",
    "df_wfs_sf2_clean = enrich_keywords_with_abstract(df_wfs_sf2_clean)\n",
    "df_wfs_sf2_cf = flag_fuzzy_keyword_matches(df_wfs_sf2_clean, word_list)\n",
    "df_wfs_sf2_cf_clean = df_wfs_sf2_cf[df_wfs_sf2_cf['has_fuzzy_keyword_match']==True]\n",
    "end = time.time()\n",
    "print(f\"Content-based filtering for WFS records completed in {end - start:.2f} seconds.\")"
   ]
  },
  {
   "cell_type": "code",
   "execution_count": 85,
   "id": "a844294b",
   "metadata": {},
   "outputs": [
    {
     "data": {
      "text/html": [
       "<div>\n",
       "<style scoped>\n",
       "    .dataframe tbody tr th:only-of-type {\n",
       "        vertical-align: middle;\n",
       "    }\n",
       "\n",
       "    .dataframe tbody tr th {\n",
       "        vertical-align: top;\n",
       "    }\n",
       "\n",
       "    .dataframe thead th {\n",
       "        text-align: right;\n",
       "    }\n",
       "</style>\n",
       "<table border=\"1\" class=\"dataframe\">\n",
       "  <thead>\n",
       "    <tr style=\"text-align: right;\">\n",
       "      <th></th>\n",
       "      <th>identifier</th>\n",
       "      <th>resource_type</th>\n",
       "      <th>md_standard</th>\n",
       "      <th>ogc_web_services</th>\n",
       "      <th>md_date</th>\n",
       "      <th>language</th>\n",
       "      <th>crs_epsg_codes</th>\n",
       "      <th>title</th>\n",
       "      <th>keywords</th>\n",
       "      <th>abstract</th>\n",
       "      <th>...</th>\n",
       "      <th>coverage_id</th>\n",
       "      <th>clean_coverage_id</th>\n",
       "      <th>layer</th>\n",
       "      <th>crs_epsg</th>\n",
       "      <th>spatial_resolution</th>\n",
       "      <th>bbox_28992</th>\n",
       "      <th>intersects_outline_1</th>\n",
       "      <th>intersects_outline_2</th>\n",
       "      <th>keywords_+</th>\n",
       "      <th>has_fuzzy_keyword_match</th>\n",
       "    </tr>\n",
       "  </thead>\n",
       "  <tbody>\n",
       "    <tr>\n",
       "      <th>13</th>\n",
       "      <td>7f14c112-9004-43ec-8cf2-0ac54a253721</td>\n",
       "      <td>dataset</td>\n",
       "      <td>ISO 19115</td>\n",
       "      <td>WMS; WCS</td>\n",
       "      <td>2022-11-15</td>\n",
       "      <td>dut</td>\n",
       "      <td>28992</td>\n",
       "      <td>Natuurlijke ziekte- en plaagwering van de bode...</td>\n",
       "      <td>bodem</td>\n",
       "      <td>Wat ziet U: De natuurlijke ziekten- en plaagwe...</td>\n",
       "      <td>...</td>\n",
       "      <td>ank__rivm_r3_gm_diseasesupp</td>\n",
       "      <td>rivm_r3_gm_diseasesupp</td>\n",
       "      <td>ank__rivm_r3_gm_diseasesupp</td>\n",
       "      <td>28992</td>\n",
       "      <td>(25.0, 25.0)</td>\n",
       "      <td>(12714.671780765639, 308707.4330927675, 283699...</td>\n",
       "      <td>True</td>\n",
       "      <td>True</td>\n",
       "      <td>20;belangrijk;bestrijding;bestrijdingsmiddelen...</td>\n",
       "      <td>True</td>\n",
       "    </tr>\n",
       "    <tr>\n",
       "      <th>28</th>\n",
       "      <td>c186ec2a-ca51-4d28-b2a8-d99ce886e145</td>\n",
       "      <td>dataset</td>\n",
       "      <td>ISO 19115</td>\n",
       "      <td>WMS; WCS</td>\n",
       "      <td>2022-11-17</td>\n",
       "      <td>dut</td>\n",
       "      <td>28992</td>\n",
       "      <td>Grootschalige stikstofdepositie Nederland</td>\n",
       "      <td>stikstofdepositie</td>\n",
       "      <td>Wat ziet u? De depositie van stikstofverbindin...</td>\n",
       "      <td>...</td>\n",
       "      <td>ank__rivm_r19_gm_n-depositie</td>\n",
       "      <td>rivm_r19_gm_n-depositie</td>\n",
       "      <td>ank__rivm_r19_gm_n-depositie</td>\n",
       "      <td>28992</td>\n",
       "      <td>(1000.0, 1000.0)</td>\n",
       "      <td>(12714.671780765639, 308707.4330927675, 283699...</td>\n",
       "      <td>True</td>\n",
       "      <td>True</td>\n",
       "      <td>1x;aan;aanpak;ander;andere;balansen;cbs;daarva...</td>\n",
       "      <td>True</td>\n",
       "    </tr>\n",
       "    <tr>\n",
       "      <th>29</th>\n",
       "      <td>d552c878-d8a0-4516-9182-86cee400305c</td>\n",
       "      <td>dataset</td>\n",
       "      <td>ISO 19115</td>\n",
       "      <td>WMS; WCS</td>\n",
       "      <td>2022-11-12</td>\n",
       "      <td>dut</td>\n",
       "      <td>28992</td>\n",
       "      <td>Bodemstructuur toplaag voor groei van gewassen...</td>\n",
       "      <td>bodem; structuur</td>\n",
       "      <td>Wat ziet U: De bodemstructuur van de bovenste ...</td>\n",
       "      <td>...</td>\n",
       "      <td>ank__rivm_r1_gm_soilstr</td>\n",
       "      <td>rivm_r1_gm_soilstr</td>\n",
       "      <td>ank__rivm_r1_gm_soilstr</td>\n",
       "      <td>28992</td>\n",
       "      <td>(25.0, 25.0)</td>\n",
       "      <td>(12714.671780765639, 308707.4330927675, 283699...</td>\n",
       "      <td>True</td>\n",
       "      <td>True</td>\n",
       "      <td>20;afgifte;alle;belangrijk;berijden;bodem;bode...</td>\n",
       "      <td>True</td>\n",
       "    </tr>\n",
       "    <tr>\n",
       "      <th>188</th>\n",
       "      <td>c85b24f4-eb93-455a-84bc-e3f4588bb780</td>\n",
       "      <td>dataset</td>\n",
       "      <td>ISO 19115</td>\n",
       "      <td>WMS; WCS</td>\n",
       "      <td>2025-01-30</td>\n",
       "      <td>dut</td>\n",
       "      <td>28992; 5709</td>\n",
       "      <td>Wegenkaart Nederland 2013</td>\n",
       "      <td>NaN</td>\n",
       "      <td>Geeft een overzicht van de rijks- en provincia...</td>\n",
       "      <td>...</td>\n",
       "      <td>wegenkaart__wegenkaart_2013</td>\n",
       "      <td>wegenkaart_2013</td>\n",
       "      <td>wegenkaart__wegenkaart_2013</td>\n",
       "      <td>28992</td>\n",
       "      <td>(21.166623666367, 21.166626258007)</td>\n",
       "      <td>(-5414.871507011412, 299450.29248729965, 28690...</td>\n",
       "      <td>True</td>\n",
       "      <td>True</td>\n",
       "      <td>de;detail;een;en;geeft;in;legenda;nederland;ov...</td>\n",
       "      <td>True</td>\n",
       "    </tr>\n",
       "    <tr>\n",
       "      <th>189</th>\n",
       "      <td>c85b24f4-eb93-455a-84bc-e3f4588bb779</td>\n",
       "      <td>dataset</td>\n",
       "      <td>ISO 19115</td>\n",
       "      <td>WMS; WCS</td>\n",
       "      <td>2025-01-30</td>\n",
       "      <td>dut</td>\n",
       "      <td>28992; 5709</td>\n",
       "      <td>Wegenkaart Nederland 2018</td>\n",
       "      <td>NaN</td>\n",
       "      <td>Geeft een overzicht van de rijks- en provincia...</td>\n",
       "      <td>...</td>\n",
       "      <td>wegenkaart__wegenkaart_2018</td>\n",
       "      <td>wegenkaart_2018</td>\n",
       "      <td>wegenkaart__wegenkaart_2018</td>\n",
       "      <td>28992</td>\n",
       "      <td>(27.094192632589117, 27.094192632589117)</td>\n",
       "      <td>(-5414.871507011412, 299450.29248729965, 28690...</td>\n",
       "      <td>True</td>\n",
       "      <td>True</td>\n",
       "      <td>de;detail;een;en;geeft;in;legenda;nederland;ov...</td>\n",
       "      <td>True</td>\n",
       "    </tr>\n",
       "    <tr>\n",
       "      <th>339</th>\n",
       "      <td>fdf0a7f6-2087-4e3a-96aa-02691d526d48</td>\n",
       "      <td>dataset</td>\n",
       "      <td>ISO 19115</td>\n",
       "      <td>WMS; WCS</td>\n",
       "      <td>2025-01-30</td>\n",
       "      <td>dut</td>\n",
       "      <td>28992; 5709</td>\n",
       "      <td>Wegenkaart Nederland 2023</td>\n",
       "      <td>NaN</td>\n",
       "      <td>Geeft een overzicht van de rijks- en provincia...</td>\n",
       "      <td>...</td>\n",
       "      <td>wegenkaart__wegenkaart</td>\n",
       "      <td>wegenkaart</td>\n",
       "      <td>wegenkaart__wegenkaart</td>\n",
       "      <td>28992</td>\n",
       "      <td>(27.093333333441706, 27.093333333441706)</td>\n",
       "      <td>(-5414.871507011412, 299450.29248729965, 28690...</td>\n",
       "      <td>True</td>\n",
       "      <td>True</td>\n",
       "      <td>2023;2024;aantal;actualiseren;als;basiskaart;b...</td>\n",
       "      <td>True</td>\n",
       "    </tr>\n",
       "    <tr>\n",
       "      <th>495</th>\n",
       "      <td>55811db7-cfc2-4740-8924-93e2a61b7969</td>\n",
       "      <td>dataset</td>\n",
       "      <td>ISO 19115</td>\n",
       "      <td>WMS; WCS</td>\n",
       "      <td>2024-05-29</td>\n",
       "      <td>dut</td>\n",
       "      <td>28992; 5709</td>\n",
       "      <td>Orthofotomozaiek Ijsselmeer 2011 (falsecolor)</td>\n",
       "      <td>Luchtfoto; MWTL; N2000; KRW; Vegetatiestructuu...</td>\n",
       "      <td>Orthofotomozaiek van Ijsselmeer vervaardigd ui...</td>\n",
       "      <td>...</td>\n",
       "      <td>luchtfoto_ecotopen__e_IJsselmeer_oost_2011</td>\n",
       "      <td>e_IJsselmeer_oost_2011</td>\n",
       "      <td>luchtfoto_ecotopen__e_IJsselmeer_oost_2011</td>\n",
       "      <td>28992</td>\n",
       "      <td>(0.25, 0.25)</td>\n",
       "      <td>(130812.48172688037, 473720.937074629, 186739....</td>\n",
       "      <td>True</td>\n",
       "      <td>True</td>\n",
       "      <td>1;2011;22;25;3;4;5;6;Biologische monitoring;KR...</td>\n",
       "      <td>True</td>\n",
       "    </tr>\n",
       "    <tr>\n",
       "      <th>646</th>\n",
       "      <td>d1f62dd5-096d-4f50-8d31-7a8ac3c8b30e</td>\n",
       "      <td>dataset</td>\n",
       "      <td>ISO 19115</td>\n",
       "      <td>WMS; WCS</td>\n",
       "      <td>2022-11-14</td>\n",
       "      <td>dut</td>\n",
       "      <td>28992</td>\n",
       "      <td>Geschikte habitat bestuivers</td>\n",
       "      <td>bestuiving; geschikte habitat</td>\n",
       "      <td>De kaart geeft een beeld van de ruimtelijke sp...</td>\n",
       "      <td>...</td>\n",
       "      <td>ank__rivm_r60_gm_geschiktehabitatbestuivers</td>\n",
       "      <td>rivm_r60_gm_geschiktehabitatbestuivers</td>\n",
       "      <td>ank__rivm_r60_gm_geschiktehabitatbestuivers</td>\n",
       "      <td>28992</td>\n",
       "      <td>(100.0, 100.0)</td>\n",
       "      <td>(12714.671780765639, 308707.4330927675, 283699...</td>\n",
       "      <td>True</td>\n",
       "      <td>True</td>\n",
       "      <td>aangeduid;alle;als;atlas;beeld;belgië;bepalen;...</td>\n",
       "      <td>True</td>\n",
       "    </tr>\n",
       "    <tr>\n",
       "      <th>758</th>\n",
       "      <td>59661f74-31dd-4c37-86e8-deeb1b5819b5</td>\n",
       "      <td>dataset</td>\n",
       "      <td>ISO 19115</td>\n",
       "      <td>WMS; WCS</td>\n",
       "      <td>2024-05-29</td>\n",
       "      <td>dut</td>\n",
       "      <td>28992; 5709</td>\n",
       "      <td>Orthofotomozaiek IJsselmeer 2004</td>\n",
       "      <td>Luchtfoto; MWTL; N2000; KRW; Vegetatiestructuu...</td>\n",
       "      <td>infrarood orthofoto voor vegetatie kartering</td>\n",
       "      <td>...</td>\n",
       "      <td>luchtfoto_ecotopen__e_IJsselmeer_2004</td>\n",
       "      <td>e_IJsselmeer_2004</td>\n",
       "      <td>luchtfoto_ecotopen__e_IJsselmeer_2004</td>\n",
       "      <td>28992</td>\n",
       "      <td>(0.5, 0.5)</td>\n",
       "      <td>(130812.48172688037, 473720.937074629, 186739....</td>\n",
       "      <td>True</td>\n",
       "      <td>True</td>\n",
       "      <td>Biologische monitoring;KRW;Luchtfoto;MWTL;N200...</td>\n",
       "      <td>True</td>\n",
       "    </tr>\n",
       "    <tr>\n",
       "      <th>786</th>\n",
       "      <td>27b7c988-f7eb-4f8a-8d5b-4ef74808f880</td>\n",
       "      <td>dataset</td>\n",
       "      <td>ISO 19115</td>\n",
       "      <td>WMS; WCS</td>\n",
       "      <td>2025-01-30</td>\n",
       "      <td>dut</td>\n",
       "      <td>28992; 5709</td>\n",
       "      <td>Wegenkaart Nederland 2021</td>\n",
       "      <td>NaN</td>\n",
       "      <td>Geeft een overzicht van de rijks- en provincia...</td>\n",
       "      <td>...</td>\n",
       "      <td>wegenkaart__wegenkaart_2021</td>\n",
       "      <td>wegenkaart_2021</td>\n",
       "      <td>wegenkaart__wegenkaart_2021</td>\n",
       "      <td>28992</td>\n",
       "      <td>(27.09333333344171, 27.09333333344171)</td>\n",
       "      <td>(-5414.871507011412, 299450.29248729965, 28690...</td>\n",
       "      <td>True</td>\n",
       "      <td>True</td>\n",
       "      <td>de;detail;een;en;geeft;in;legenda;nederland;ov...</td>\n",
       "      <td>True</td>\n",
       "    </tr>\n",
       "    <tr>\n",
       "      <th>805</th>\n",
       "      <td>61b454a0-0cf1-4c48-86fe-51dd4cb8dfe9</td>\n",
       "      <td>dataset</td>\n",
       "      <td>ISO 19115</td>\n",
       "      <td>WMS; WCS</td>\n",
       "      <td>2024-05-29</td>\n",
       "      <td>dut</td>\n",
       "      <td>28992; 5709</td>\n",
       "      <td>Orthofotomozaiek Rijntakken 2008</td>\n",
       "      <td>Luchtfoto; MWTL; N2000; KRW; Vegetatiestructuu...</td>\n",
       "      <td>infrarood orthofoto voor ecotopenkartering kar...</td>\n",
       "      <td>...</td>\n",
       "      <td>luchtfoto_ecotopen__e_Rijntakken_Oost_2008</td>\n",
       "      <td>e_Rijntakken_Oost_2008</td>\n",
       "      <td>luchtfoto_ecotopen__e_Rijntakken_Oost_2008</td>\n",
       "      <td>28992</td>\n",
       "      <td>(0.25, 0.25)</td>\n",
       "      <td>(-5344.194568600709, 299450.29248729965, 28690...</td>\n",
       "      <td>True</td>\n",
       "      <td>True</td>\n",
       "      <td>Biologische monitoring;KRW;Luchtfoto;MWTL;N200...</td>\n",
       "      <td>True</td>\n",
       "    </tr>\n",
       "  </tbody>\n",
       "</table>\n",
       "<p>11 rows × 33 columns</p>\n",
       "</div>"
      ],
      "text/plain": [
       "                               identifier resource_type md_standard  \\\n",
       "13   7f14c112-9004-43ec-8cf2-0ac54a253721       dataset   ISO 19115   \n",
       "28   c186ec2a-ca51-4d28-b2a8-d99ce886e145       dataset   ISO 19115   \n",
       "29   d552c878-d8a0-4516-9182-86cee400305c       dataset   ISO 19115   \n",
       "188  c85b24f4-eb93-455a-84bc-e3f4588bb780       dataset   ISO 19115   \n",
       "189  c85b24f4-eb93-455a-84bc-e3f4588bb779       dataset   ISO 19115   \n",
       "339  fdf0a7f6-2087-4e3a-96aa-02691d526d48       dataset   ISO 19115   \n",
       "495  55811db7-cfc2-4740-8924-93e2a61b7969       dataset   ISO 19115   \n",
       "646  d1f62dd5-096d-4f50-8d31-7a8ac3c8b30e       dataset   ISO 19115   \n",
       "758  59661f74-31dd-4c37-86e8-deeb1b5819b5       dataset   ISO 19115   \n",
       "786  27b7c988-f7eb-4f8a-8d5b-4ef74808f880       dataset   ISO 19115   \n",
       "805  61b454a0-0cf1-4c48-86fe-51dd4cb8dfe9       dataset   ISO 19115   \n",
       "\n",
       "    ogc_web_services     md_date language crs_epsg_codes  \\\n",
       "13          WMS; WCS  2022-11-15      dut          28992   \n",
       "28          WMS; WCS  2022-11-17      dut          28992   \n",
       "29          WMS; WCS  2022-11-12      dut          28992   \n",
       "188         WMS; WCS  2025-01-30      dut    28992; 5709   \n",
       "189         WMS; WCS  2025-01-30      dut    28992; 5709   \n",
       "339         WMS; WCS  2025-01-30      dut    28992; 5709   \n",
       "495         WMS; WCS  2024-05-29      dut    28992; 5709   \n",
       "646         WMS; WCS  2022-11-14      dut          28992   \n",
       "758         WMS; WCS  2024-05-29      dut    28992; 5709   \n",
       "786         WMS; WCS  2025-01-30      dut    28992; 5709   \n",
       "805         WMS; WCS  2024-05-29      dut    28992; 5709   \n",
       "\n",
       "                                                 title  \\\n",
       "13   Natuurlijke ziekte- en plaagwering van de bode...   \n",
       "28           Grootschalige stikstofdepositie Nederland   \n",
       "29   Bodemstructuur toplaag voor groei van gewassen...   \n",
       "188                          Wegenkaart Nederland 2013   \n",
       "189                          Wegenkaart Nederland 2018   \n",
       "339                          Wegenkaart Nederland 2023   \n",
       "495      Orthofotomozaiek Ijsselmeer 2011 (falsecolor)   \n",
       "646                       Geschikte habitat bestuivers   \n",
       "758                   Orthofotomozaiek IJsselmeer 2004   \n",
       "786                          Wegenkaart Nederland 2021   \n",
       "805                   Orthofotomozaiek Rijntakken 2008   \n",
       "\n",
       "                                              keywords  \\\n",
       "13                                               bodem   \n",
       "28                                   stikstofdepositie   \n",
       "29                                    bodem; structuur   \n",
       "188                                                NaN   \n",
       "189                                                NaN   \n",
       "339                                                NaN   \n",
       "495  Luchtfoto; MWTL; N2000; KRW; Vegetatiestructuu...   \n",
       "646                      bestuiving; geschikte habitat   \n",
       "758  Luchtfoto; MWTL; N2000; KRW; Vegetatiestructuu...   \n",
       "786                                                NaN   \n",
       "805  Luchtfoto; MWTL; N2000; KRW; Vegetatiestructuu...   \n",
       "\n",
       "                                              abstract  ...  \\\n",
       "13   Wat ziet U: De natuurlijke ziekten- en plaagwe...  ...   \n",
       "28   Wat ziet u? De depositie van stikstofverbindin...  ...   \n",
       "29   Wat ziet U: De bodemstructuur van de bovenste ...  ...   \n",
       "188  Geeft een overzicht van de rijks- en provincia...  ...   \n",
       "189  Geeft een overzicht van de rijks- en provincia...  ...   \n",
       "339  Geeft een overzicht van de rijks- en provincia...  ...   \n",
       "495  Orthofotomozaiek van Ijsselmeer vervaardigd ui...  ...   \n",
       "646  De kaart geeft een beeld van de ruimtelijke sp...  ...   \n",
       "758       infrarood orthofoto voor vegetatie kartering  ...   \n",
       "786  Geeft een overzicht van de rijks- en provincia...  ...   \n",
       "805  infrarood orthofoto voor ecotopenkartering kar...  ...   \n",
       "\n",
       "                                     coverage_id  \\\n",
       "13                   ank__rivm_r3_gm_diseasesupp   \n",
       "28                  ank__rivm_r19_gm_n-depositie   \n",
       "29                       ank__rivm_r1_gm_soilstr   \n",
       "188                  wegenkaart__wegenkaart_2013   \n",
       "189                  wegenkaart__wegenkaart_2018   \n",
       "339                       wegenkaart__wegenkaart   \n",
       "495   luchtfoto_ecotopen__e_IJsselmeer_oost_2011   \n",
       "646  ank__rivm_r60_gm_geschiktehabitatbestuivers   \n",
       "758        luchtfoto_ecotopen__e_IJsselmeer_2004   \n",
       "786                  wegenkaart__wegenkaart_2021   \n",
       "805   luchtfoto_ecotopen__e_Rijntakken_Oost_2008   \n",
       "\n",
       "                          clean_coverage_id  \\\n",
       "13                   rivm_r3_gm_diseasesupp   \n",
       "28                  rivm_r19_gm_n-depositie   \n",
       "29                       rivm_r1_gm_soilstr   \n",
       "188                         wegenkaart_2013   \n",
       "189                         wegenkaart_2018   \n",
       "339                              wegenkaart   \n",
       "495                  e_IJsselmeer_oost_2011   \n",
       "646  rivm_r60_gm_geschiktehabitatbestuivers   \n",
       "758                       e_IJsselmeer_2004   \n",
       "786                         wegenkaart_2021   \n",
       "805                  e_Rijntakken_Oost_2008   \n",
       "\n",
       "                                           layer crs_epsg  \\\n",
       "13                   ank__rivm_r3_gm_diseasesupp    28992   \n",
       "28                  ank__rivm_r19_gm_n-depositie    28992   \n",
       "29                       ank__rivm_r1_gm_soilstr    28992   \n",
       "188                  wegenkaart__wegenkaart_2013    28992   \n",
       "189                  wegenkaart__wegenkaart_2018    28992   \n",
       "339                       wegenkaart__wegenkaart    28992   \n",
       "495   luchtfoto_ecotopen__e_IJsselmeer_oost_2011    28992   \n",
       "646  ank__rivm_r60_gm_geschiktehabitatbestuivers    28992   \n",
       "758        luchtfoto_ecotopen__e_IJsselmeer_2004    28992   \n",
       "786                  wegenkaart__wegenkaart_2021    28992   \n",
       "805   luchtfoto_ecotopen__e_Rijntakken_Oost_2008    28992   \n",
       "\n",
       "                           spatial_resolution  \\\n",
       "13                               (25.0, 25.0)   \n",
       "28                           (1000.0, 1000.0)   \n",
       "29                               (25.0, 25.0)   \n",
       "188        (21.166623666367, 21.166626258007)   \n",
       "189  (27.094192632589117, 27.094192632589117)   \n",
       "339  (27.093333333441706, 27.093333333441706)   \n",
       "495                              (0.25, 0.25)   \n",
       "646                            (100.0, 100.0)   \n",
       "758                                (0.5, 0.5)   \n",
       "786    (27.09333333344171, 27.09333333344171)   \n",
       "805                              (0.25, 0.25)   \n",
       "\n",
       "                                            bbox_28992 intersects_outline_1  \\\n",
       "13   (12714.671780765639, 308707.4330927675, 283699...                 True   \n",
       "28   (12714.671780765639, 308707.4330927675, 283699...                 True   \n",
       "29   (12714.671780765639, 308707.4330927675, 283699...                 True   \n",
       "188  (-5414.871507011412, 299450.29248729965, 28690...                 True   \n",
       "189  (-5414.871507011412, 299450.29248729965, 28690...                 True   \n",
       "339  (-5414.871507011412, 299450.29248729965, 28690...                 True   \n",
       "495  (130812.48172688037, 473720.937074629, 186739....                 True   \n",
       "646  (12714.671780765639, 308707.4330927675, 283699...                 True   \n",
       "758  (130812.48172688037, 473720.937074629, 186739....                 True   \n",
       "786  (-5414.871507011412, 299450.29248729965, 28690...                 True   \n",
       "805  (-5344.194568600709, 299450.29248729965, 28690...                 True   \n",
       "\n",
       "    intersects_outline_2                                         keywords_+  \\\n",
       "13                  True  20;belangrijk;bestrijding;bestrijdingsmiddelen...   \n",
       "28                  True  1x;aan;aanpak;ander;andere;balansen;cbs;daarva...   \n",
       "29                  True  20;afgifte;alle;belangrijk;berijden;bodem;bode...   \n",
       "188                 True  de;detail;een;en;geeft;in;legenda;nederland;ov...   \n",
       "189                 True  de;detail;een;en;geeft;in;legenda;nederland;ov...   \n",
       "339                 True  2023;2024;aantal;actualiseren;als;basiskaart;b...   \n",
       "495                 True  1;2011;22;25;3;4;5;6;Biologische monitoring;KR...   \n",
       "646                 True  aangeduid;alle;als;atlas;beeld;belgië;bepalen;...   \n",
       "758                 True  Biologische monitoring;KRW;Luchtfoto;MWTL;N200...   \n",
       "786                 True  de;detail;een;en;geeft;in;legenda;nederland;ov...   \n",
       "805                 True  Biologische monitoring;KRW;Luchtfoto;MWTL;N200...   \n",
       "\n",
       "    has_fuzzy_keyword_match  \n",
       "13                     True  \n",
       "28                     True  \n",
       "29                     True  \n",
       "188                    True  \n",
       "189                    True  \n",
       "339                    True  \n",
       "495                    True  \n",
       "646                    True  \n",
       "758                    True  \n",
       "786                    True  \n",
       "805                    True  \n",
       "\n",
       "[11 rows x 33 columns]"
      ]
     },
     "execution_count": 85,
     "metadata": {},
     "output_type": "execute_result"
    }
   ],
   "source": [
    "df_wcs_sf2_cf_clean"
   ]
  },
  {
   "cell_type": "code",
   "execution_count": 86,
   "id": "c154c720",
   "metadata": {},
   "outputs": [
    {
     "data": {
      "text/html": [
       "<div>\n",
       "<style scoped>\n",
       "    .dataframe tbody tr th:only-of-type {\n",
       "        vertical-align: middle;\n",
       "    }\n",
       "\n",
       "    .dataframe tbody tr th {\n",
       "        vertical-align: top;\n",
       "    }\n",
       "\n",
       "    .dataframe thead th {\n",
       "        text-align: right;\n",
       "    }\n",
       "</style>\n",
       "<table border=\"1\" class=\"dataframe\">\n",
       "  <thead>\n",
       "    <tr style=\"text-align: right;\">\n",
       "      <th></th>\n",
       "      <th>identifier</th>\n",
       "      <th>resource_type</th>\n",
       "      <th>md_standard</th>\n",
       "      <th>ogc_web_services</th>\n",
       "      <th>md_date</th>\n",
       "      <th>language</th>\n",
       "      <th>crs_epsg_codes</th>\n",
       "      <th>title</th>\n",
       "      <th>keywords</th>\n",
       "      <th>abstract</th>\n",
       "      <th>...</th>\n",
       "      <th>csw_metadata_name</th>\n",
       "      <th>csw_metadata_name_clean</th>\n",
       "      <th>feature_id</th>\n",
       "      <th>clean_feature_ids</th>\n",
       "      <th>layer</th>\n",
       "      <th>bbox_28992</th>\n",
       "      <th>intersects_outline_1</th>\n",
       "      <th>intersects_outline_2</th>\n",
       "      <th>keywords_+</th>\n",
       "      <th>has_fuzzy_keyword_match</th>\n",
       "    </tr>\n",
       "  </thead>\n",
       "  <tbody>\n",
       "    <tr>\n",
       "      <th>6</th>\n",
       "      <td>150732ad-782d-448b-9fff-fa7027f11b6a</td>\n",
       "      <td>dataset</td>\n",
       "      <td>ISO 19115</td>\n",
       "      <td>WMS; WFS</td>\n",
       "      <td>2022-11-17</td>\n",
       "      <td>dut</td>\n",
       "      <td>28992</td>\n",
       "      <td>Geluidkaart rijkswegen 2016 (Lnight) - Atlas L...</td>\n",
       "      <td>Gezondheid; Veiligheid; geluid; lawaai; nacht;...</td>\n",
       "      <td>Deze geluidskaart laat zien hoeveel geluid het...</td>\n",
       "      <td>...</td>\n",
       "      <td>alo:vw_rivm_r97_20170912_lg_rijksweg2016lnight</td>\n",
       "      <td>vw_rivm_r97_20170912_lg_rijksweg2016lnight</td>\n",
       "      <td>alo:vw_rivm_r97_20170912_lg_rijksweg2016lnight</td>\n",
       "      <td>vw_rivm_r97_20170912_lg_rijksweg2016lnight</td>\n",
       "      <td>alo:vw_rivm_r97_20170912_lg_rijksweg2016lnight</td>\n",
       "      <td>(62.6354098431475, 299904.60230959, 296110.871...</td>\n",
       "      <td>True</td>\n",
       "      <td>True</td>\n",
       "      <td>00;2016;23;7;Gezondheid;Veiligheid;aantal;alle...</td>\n",
       "      <td>True</td>\n",
       "    </tr>\n",
       "    <tr>\n",
       "      <th>15</th>\n",
       "      <td>69958238-d61e-4440-bed2-26d990578835</td>\n",
       "      <td>service</td>\n",
       "      <td>ISO 19115</td>\n",
       "      <td>WFS</td>\n",
       "      <td>2024-08-29</td>\n",
       "      <td>dut</td>\n",
       "      <td>NaN</td>\n",
       "      <td>Richtlijn Stedelijk Afvalwater (RSA) WFS</td>\n",
       "      <td>Richtlijn Stedelijk Afvalwater; Richtlijn 91/2...</td>\n",
       "      <td>Deze Webfeature service Richtlijn Stedelijk Af...</td>\n",
       "      <td>...</td>\n",
       "      <td>richtlijnstedelijkafvalwater:rsa_kwetsbaargebied</td>\n",
       "      <td>rsa_kwetsbaargebied</td>\n",
       "      <td>richtlijnstedelijkafvalwater:rsa_kwetsbaargebied</td>\n",
       "      <td>rsa_kwetsbaargebied</td>\n",
       "      <td>richtlijnstedelijkafvalwater:rsa_kwetsbaargebied</td>\n",
       "      <td>(-235985.32493249525, 273147.7369725155, 43577...</td>\n",
       "      <td>True</td>\n",
       "      <td>True</td>\n",
       "      <td>31991L0271;Agglomeraties;Kwetsbaargebied;Lozin...</td>\n",
       "      <td>True</td>\n",
       "    </tr>\n",
       "    <tr>\n",
       "      <th>19</th>\n",
       "      <td>5aa03c75-4271-4e29-8753-71eef7dbc2c6</td>\n",
       "      <td>dataset</td>\n",
       "      <td>ISO 19115</td>\n",
       "      <td>WFS; WMS</td>\n",
       "      <td>2024-11-15</td>\n",
       "      <td>dut</td>\n",
       "      <td>NaN</td>\n",
       "      <td>Bebouwde kommen onder de Wegenwet</td>\n",
       "      <td>BEBOUWDE KOM; GRENZEN; WEGEN; Provinciaal bele...</td>\n",
       "      <td>Bebouwde kommen volgens de Wegenwet, vastgeste...</td>\n",
       "      <td>...</td>\n",
       "      <td>Bebouwdekom_wegenwet</td>\n",
       "      <td>Bebouwdekom_wegenwet</td>\n",
       "      <td>v01_2_1_wegennet:Bebouwdekom_wegenwet</td>\n",
       "      <td>Bebouwdekom_wegenwet</td>\n",
       "      <td>v01_2_1_wegennet:Bebouwdekom_wegenwet</td>\n",
       "      <td>(114686.94508030225, 430069.8090139576, 169590...</td>\n",
       "      <td>True</td>\n",
       "      <td>True</td>\n",
       "      <td>1;2019;BEBOUWDE KOM;Downloadable Data;GRENZEN;...</td>\n",
       "      <td>True</td>\n",
       "    </tr>\n",
       "    <tr>\n",
       "      <th>36</th>\n",
       "      <td>7b9ffe10-7072-49fc-95e5-53ca8772a4c1</td>\n",
       "      <td>dataset</td>\n",
       "      <td>ISO 19115</td>\n",
       "      <td>WFS; WMS</td>\n",
       "      <td>2024-05-02</td>\n",
       "      <td>dut</td>\n",
       "      <td>28992</td>\n",
       "      <td>Water voor aquatische natuur</td>\n",
       "      <td>grondwater; beregening; landbouw; watervoorzie...</td>\n",
       "      <td>De kaart toont de natuurwaarde van natte en vo...</td>\n",
       "      <td>...</td>\n",
       "      <td>ank:d2_aquatische_natuur</td>\n",
       "      <td>d2_aquatische_natuur</td>\n",
       "      <td>ank:d2_aquatische_natuur</td>\n",
       "      <td>d2_aquatische_natuur</td>\n",
       "      <td>ank:d2_aquatische_natuur</td>\n",
       "      <td>(12714.671780765639, 308707.4330927675, 283699...</td>\n",
       "      <td>True</td>\n",
       "      <td>True</td>\n",
       "      <td>1;2;2005;2007;2n;3;4;5;aan;aanwezig;af;afhanke...</td>\n",
       "      <td>True</td>\n",
       "    </tr>\n",
       "    <tr>\n",
       "      <th>43</th>\n",
       "      <td>f647c009-6f7b-45f0-b98c-aaa94b1944a1</td>\n",
       "      <td>dataset</td>\n",
       "      <td>ISO 19115</td>\n",
       "      <td>WMS; WFS</td>\n",
       "      <td>2024-02-06</td>\n",
       "      <td>dut</td>\n",
       "      <td>28992</td>\n",
       "      <td>Gemiddelde afstand tot sportaccommodaties</td>\n",
       "      <td>gezondheid</td>\n",
       "      <td>Op de kaart zie je hoe ver mensen moeten reize...</td>\n",
       "      <td>...</td>\n",
       "      <td>alo:rivm_20230301_afstand_sportacc_gemeente_2020</td>\n",
       "      <td>rivm_20230301_afstand_sportacc_gemeente_2020</td>\n",
       "      <td>alo:rivm_20230301_afstand_sportacc_gemeente_2020</td>\n",
       "      <td>rivm_20230301_afstand_sportacc_gemeente_2020</td>\n",
       "      <td>alo:rivm_20230301_afstand_sportacc_gemeente_2020</td>\n",
       "      <td>(12714.671780765639, 308707.4330927675, 283699...</td>\n",
       "      <td>True</td>\n",
       "      <td>True</td>\n",
       "      <td>aangegeven;afstand;berekening;de;een;en;fitnes...</td>\n",
       "      <td>True</td>\n",
       "    </tr>\n",
       "    <tr>\n",
       "      <th>...</th>\n",
       "      <td>...</td>\n",
       "      <td>...</td>\n",
       "      <td>...</td>\n",
       "      <td>...</td>\n",
       "      <td>...</td>\n",
       "      <td>...</td>\n",
       "      <td>...</td>\n",
       "      <td>...</td>\n",
       "      <td>...</td>\n",
       "      <td>...</td>\n",
       "      <td>...</td>\n",
       "      <td>...</td>\n",
       "      <td>...</td>\n",
       "      <td>...</td>\n",
       "      <td>...</td>\n",
       "      <td>...</td>\n",
       "      <td>...</td>\n",
       "      <td>...</td>\n",
       "      <td>...</td>\n",
       "      <td>...</td>\n",
       "      <td>...</td>\n",
       "    </tr>\n",
       "    <tr>\n",
       "      <th>4158</th>\n",
       "      <td>a9b7027e-0a81-2008-93bd-ba49e6f29mgl</td>\n",
       "      <td>dataset</td>\n",
       "      <td>ISO 19115</td>\n",
       "      <td>WMS; WFS</td>\n",
       "      <td>2024-02-29</td>\n",
       "      <td>dut</td>\n",
       "      <td>28992; 5709</td>\n",
       "      <td>NWB wegen - Hectopunten historie 2008 (RWS)</td>\n",
       "      <td>Vervoersnetwerken; Wegnummer; Rijkswegen; Wegen</td>\n",
       "      <td>Deze dataset bevat de hectopunten van de wegen...</td>\n",
       "      <td>...</td>\n",
       "      <td>nwb_wegen_historie_2008:nwb_wegen_hectopunten_...</td>\n",
       "      <td>nwb_wegen_hectopunten_2008</td>\n",
       "      <td>nwb_wegen_historie_2008:nwb_wegen_hectopunten_...</td>\n",
       "      <td>nwb_wegen_hectopunten_2008</td>\n",
       "      <td>nwb_wegen_historie_2008:nwb_wegen_hectopunten_...</td>\n",
       "      <td>(-5344.194568600709, 299450.29248729965, 28690...</td>\n",
       "      <td>True</td>\n",
       "      <td>True</td>\n",
       "      <td>000;01;1;158;2008;2020;Rijkswegen;Vervoersnetw...</td>\n",
       "      <td>True</td>\n",
       "    </tr>\n",
       "    <tr>\n",
       "      <th>4168</th>\n",
       "      <td>d7df2888-0c0d-40f1-9b35-3c1a01234d01</td>\n",
       "      <td>dataset</td>\n",
       "      <td>ISO 19115</td>\n",
       "      <td>WMS; WFS</td>\n",
       "      <td>2025-07-08</td>\n",
       "      <td>dut</td>\n",
       "      <td>28992; 5709</td>\n",
       "      <td>Maximum snelhedenkaart - wegvakken (RWS)</td>\n",
       "      <td>NaN</td>\n",
       "      <td>De wegkenmerkendatabase (WKD) voor snelheden b...</td>\n",
       "      <td>...</td>\n",
       "      <td>maximum_snelheden_wegen:max_snelheden_overdag</td>\n",
       "      <td>max_snelheden_overdag</td>\n",
       "      <td>maximum_snelheden_wegen:max_snelheden_overdag</td>\n",
       "      <td>max_snelheden_overdag</td>\n",
       "      <td>maximum_snelheden_wegen:max_snelheden_overdag</td>\n",
       "      <td>(-5344.194568600709, 299450.29248729965, 28690...</td>\n",
       "      <td>True</td>\n",
       "      <td>True</td>\n",
       "      <td>00;100;120;130;15;19;20;2017;2022;30;30km;40;5...</td>\n",
       "      <td>True</td>\n",
       "    </tr>\n",
       "    <tr>\n",
       "      <th>4184</th>\n",
       "      <td>ba6cd56d-4a7a-460f-a8d6-161c5e1a8557</td>\n",
       "      <td>dataset</td>\n",
       "      <td>ISO 19115</td>\n",
       "      <td>WFS; WMS</td>\n",
       "      <td>2024-03-06</td>\n",
       "      <td>dut</td>\n",
       "      <td>NaN</td>\n",
       "      <td>Ganzenrustgebieden</td>\n",
       "      <td>FLORA- EN FAUNAWET; FAUNA; FAUNABEHEER; GANZEN...</td>\n",
       "      <td>In deze gebieden is het in principe niet meer ...</td>\n",
       "      <td>...</td>\n",
       "      <td>Ganzenrustgebieden</td>\n",
       "      <td>Ganzenrustgebieden</td>\n",
       "      <td>n01_2_2_natuur_beleid:Ganzenrustgebieden</td>\n",
       "      <td>Ganzenrustgebieden</td>\n",
       "      <td>n01_2_2_natuur_beleid:Ganzenrustgebieden</td>\n",
       "      <td>(124664.01356159779, 439530.530817566, 170869....</td>\n",
       "      <td>True</td>\n",
       "      <td>True</td>\n",
       "      <td>1;FAUNA;FAUNABEHEER;FLORA- EN FAUNAWET;GANZEN;...</td>\n",
       "      <td>True</td>\n",
       "    </tr>\n",
       "    <tr>\n",
       "      <th>4187</th>\n",
       "      <td>74cf9ff5-b56b-481b-be90-d320b5d669b1</td>\n",
       "      <td>dataset</td>\n",
       "      <td>ISO 19115</td>\n",
       "      <td>WFS; WMS</td>\n",
       "      <td>2023-06-13</td>\n",
       "      <td>dut</td>\n",
       "      <td>NaN</td>\n",
       "      <td>Geluidbelasting - Contouren provinciale wegen ...</td>\n",
       "      <td>GELUID; GELUIDSZONES; GELUIDHINDER; GELUIDSSCH...</td>\n",
       "      <td>De dataset bevat de samengevoegde geluidcontou...</td>\n",
       "      <td>...</td>\n",
       "      <td>Geluidbelasting_Contouren_provinciale_wegen_2014</td>\n",
       "      <td>Geluidbelasting_Contouren_provinciale_wegen_2014</td>\n",
       "      <td>m01_4_overlast_hinder:Geluidbelasting_Contoure...</td>\n",
       "      <td>Geluidbelasting_Contouren_provinciale_wegen_2014</td>\n",
       "      <td>m01_4_overlast_hinder:Geluidbelasting_Contoure...</td>\n",
       "      <td>(115715.16277912405, 438197.9177475136, 171629...</td>\n",
       "      <td>True</td>\n",
       "      <td>True</td>\n",
       "      <td>2014;GELUID;GELUIDHINDER;GELUIDSSCHERMEN;GELUI...</td>\n",
       "      <td>True</td>\n",
       "    </tr>\n",
       "    <tr>\n",
       "      <th>4202</th>\n",
       "      <td>f43583b2-e6c5-4f69-ba41-5755d2fddf63</td>\n",
       "      <td>dataset</td>\n",
       "      <td>ISO 19115</td>\n",
       "      <td>WFS; WMS</td>\n",
       "      <td>2025-06-11</td>\n",
       "      <td>dut</td>\n",
       "      <td>NaN</td>\n",
       "      <td>Natuurbeheerplan 2026 - Beheergebied ambitie Bos</td>\n",
       "      <td>SUBSIDIES; BOSBEHEER; BOSSEN; Provinciaal beleid</td>\n",
       "      <td>In het natuurbeheerplan provincie Utrecht 2026...</td>\n",
       "      <td>...</td>\n",
       "      <td>Natuurbeheerplan_2026_ontwerp_-_Beheergebied_a...</td>\n",
       "      <td>Natuurbeheerplan_2026_ontwerp_-_Beheergebied_a...</td>\n",
       "      <td>n01_2_2_natuur_natuurbeheerplan:Natuurbeheerpl...</td>\n",
       "      <td>Natuurbeheerplan_2026_ontwerp_-_Beheergebied_a...</td>\n",
       "      <td>n01_2_2_natuur_natuurbeheerplan:Natuurbeheerpl...</td>\n",
       "      <td>(114202.92885690604, 429853.5218543811, 171588...</td>\n",
       "      <td>True</td>\n",
       "      <td>True</td>\n",
       "      <td>1;2026;4;BOSBEHEER;BOSSEN;Provinciaal beleid;S...</td>\n",
       "      <td>True</td>\n",
       "    </tr>\n",
       "  </tbody>\n",
       "</table>\n",
       "<p>502 rows × 31 columns</p>\n",
       "</div>"
      ],
      "text/plain": [
       "                                identifier resource_type md_standard  \\\n",
       "6     150732ad-782d-448b-9fff-fa7027f11b6a       dataset   ISO 19115   \n",
       "15    69958238-d61e-4440-bed2-26d990578835       service   ISO 19115   \n",
       "19    5aa03c75-4271-4e29-8753-71eef7dbc2c6       dataset   ISO 19115   \n",
       "36    7b9ffe10-7072-49fc-95e5-53ca8772a4c1       dataset   ISO 19115   \n",
       "43    f647c009-6f7b-45f0-b98c-aaa94b1944a1       dataset   ISO 19115   \n",
       "...                                    ...           ...         ...   \n",
       "4158  a9b7027e-0a81-2008-93bd-ba49e6f29mgl       dataset   ISO 19115   \n",
       "4168  d7df2888-0c0d-40f1-9b35-3c1a01234d01       dataset   ISO 19115   \n",
       "4184  ba6cd56d-4a7a-460f-a8d6-161c5e1a8557       dataset   ISO 19115   \n",
       "4187  74cf9ff5-b56b-481b-be90-d320b5d669b1       dataset   ISO 19115   \n",
       "4202  f43583b2-e6c5-4f69-ba41-5755d2fddf63       dataset   ISO 19115   \n",
       "\n",
       "     ogc_web_services     md_date language crs_epsg_codes  \\\n",
       "6            WMS; WFS  2022-11-17      dut          28992   \n",
       "15                WFS  2024-08-29      dut            NaN   \n",
       "19           WFS; WMS  2024-11-15      dut            NaN   \n",
       "36           WFS; WMS  2024-05-02      dut          28992   \n",
       "43           WMS; WFS  2024-02-06      dut          28992   \n",
       "...               ...         ...      ...            ...   \n",
       "4158         WMS; WFS  2024-02-29      dut    28992; 5709   \n",
       "4168         WMS; WFS  2025-07-08      dut    28992; 5709   \n",
       "4184         WFS; WMS  2024-03-06      dut            NaN   \n",
       "4187         WFS; WMS  2023-06-13      dut            NaN   \n",
       "4202         WFS; WMS  2025-06-11      dut            NaN   \n",
       "\n",
       "                                                  title  \\\n",
       "6     Geluidkaart rijkswegen 2016 (Lnight) - Atlas L...   \n",
       "15             Richtlijn Stedelijk Afvalwater (RSA) WFS   \n",
       "19                    Bebouwde kommen onder de Wegenwet   \n",
       "36                         Water voor aquatische natuur   \n",
       "43            Gemiddelde afstand tot sportaccommodaties   \n",
       "...                                                 ...   \n",
       "4158        NWB wegen - Hectopunten historie 2008 (RWS)   \n",
       "4168           Maximum snelhedenkaart - wegvakken (RWS)   \n",
       "4184                                 Ganzenrustgebieden   \n",
       "4187  Geluidbelasting - Contouren provinciale wegen ...   \n",
       "4202   Natuurbeheerplan 2026 - Beheergebied ambitie Bos   \n",
       "\n",
       "                                               keywords  \\\n",
       "6     Gezondheid; Veiligheid; geluid; lawaai; nacht;...   \n",
       "15    Richtlijn Stedelijk Afvalwater; Richtlijn 91/2...   \n",
       "19    BEBOUWDE KOM; GRENZEN; WEGEN; Provinciaal bele...   \n",
       "36    grondwater; beregening; landbouw; watervoorzie...   \n",
       "43                                           gezondheid   \n",
       "...                                                 ...   \n",
       "4158    Vervoersnetwerken; Wegnummer; Rijkswegen; Wegen   \n",
       "4168                                                NaN   \n",
       "4184  FLORA- EN FAUNAWET; FAUNA; FAUNABEHEER; GANZEN...   \n",
       "4187  GELUID; GELUIDSZONES; GELUIDHINDER; GELUIDSSCH...   \n",
       "4202   SUBSIDIES; BOSBEHEER; BOSSEN; Provinciaal beleid   \n",
       "\n",
       "                                               abstract  ...  \\\n",
       "6     Deze geluidskaart laat zien hoeveel geluid het...  ...   \n",
       "15    Deze Webfeature service Richtlijn Stedelijk Af...  ...   \n",
       "19    Bebouwde kommen volgens de Wegenwet, vastgeste...  ...   \n",
       "36    De kaart toont de natuurwaarde van natte en vo...  ...   \n",
       "43    Op de kaart zie je hoe ver mensen moeten reize...  ...   \n",
       "...                                                 ...  ...   \n",
       "4158  Deze dataset bevat de hectopunten van de wegen...  ...   \n",
       "4168  De wegkenmerkendatabase (WKD) voor snelheden b...  ...   \n",
       "4184  In deze gebieden is het in principe niet meer ...  ...   \n",
       "4187  De dataset bevat de samengevoegde geluidcontou...  ...   \n",
       "4202  In het natuurbeheerplan provincie Utrecht 2026...  ...   \n",
       "\n",
       "                                      csw_metadata_name  \\\n",
       "6        alo:vw_rivm_r97_20170912_lg_rijksweg2016lnight   \n",
       "15     richtlijnstedelijkafvalwater:rsa_kwetsbaargebied   \n",
       "19                                 Bebouwdekom_wegenwet   \n",
       "36                             ank:d2_aquatische_natuur   \n",
       "43     alo:rivm_20230301_afstand_sportacc_gemeente_2020   \n",
       "...                                                 ...   \n",
       "4158  nwb_wegen_historie_2008:nwb_wegen_hectopunten_...   \n",
       "4168      maximum_snelheden_wegen:max_snelheden_overdag   \n",
       "4184                                 Ganzenrustgebieden   \n",
       "4187   Geluidbelasting_Contouren_provinciale_wegen_2014   \n",
       "4202  Natuurbeheerplan_2026_ontwerp_-_Beheergebied_a...   \n",
       "\n",
       "                                csw_metadata_name_clean  \\\n",
       "6            vw_rivm_r97_20170912_lg_rijksweg2016lnight   \n",
       "15                                  rsa_kwetsbaargebied   \n",
       "19                                 Bebouwdekom_wegenwet   \n",
       "36                                 d2_aquatische_natuur   \n",
       "43         rivm_20230301_afstand_sportacc_gemeente_2020   \n",
       "...                                                 ...   \n",
       "4158                         nwb_wegen_hectopunten_2008   \n",
       "4168                              max_snelheden_overdag   \n",
       "4184                                 Ganzenrustgebieden   \n",
       "4187   Geluidbelasting_Contouren_provinciale_wegen_2014   \n",
       "4202  Natuurbeheerplan_2026_ontwerp_-_Beheergebied_a...   \n",
       "\n",
       "                                             feature_id  \\\n",
       "6        alo:vw_rivm_r97_20170912_lg_rijksweg2016lnight   \n",
       "15     richtlijnstedelijkafvalwater:rsa_kwetsbaargebied   \n",
       "19                v01_2_1_wegennet:Bebouwdekom_wegenwet   \n",
       "36                             ank:d2_aquatische_natuur   \n",
       "43     alo:rivm_20230301_afstand_sportacc_gemeente_2020   \n",
       "...                                                 ...   \n",
       "4158  nwb_wegen_historie_2008:nwb_wegen_hectopunten_...   \n",
       "4168      maximum_snelheden_wegen:max_snelheden_overdag   \n",
       "4184           n01_2_2_natuur_beleid:Ganzenrustgebieden   \n",
       "4187  m01_4_overlast_hinder:Geluidbelasting_Contoure...   \n",
       "4202  n01_2_2_natuur_natuurbeheerplan:Natuurbeheerpl...   \n",
       "\n",
       "                                      clean_feature_ids  \\\n",
       "6            vw_rivm_r97_20170912_lg_rijksweg2016lnight   \n",
       "15                                  rsa_kwetsbaargebied   \n",
       "19                                 Bebouwdekom_wegenwet   \n",
       "36                                 d2_aquatische_natuur   \n",
       "43         rivm_20230301_afstand_sportacc_gemeente_2020   \n",
       "...                                                 ...   \n",
       "4158                         nwb_wegen_hectopunten_2008   \n",
       "4168                              max_snelheden_overdag   \n",
       "4184                                 Ganzenrustgebieden   \n",
       "4187   Geluidbelasting_Contouren_provinciale_wegen_2014   \n",
       "4202  Natuurbeheerplan_2026_ontwerp_-_Beheergebied_a...   \n",
       "\n",
       "                                                  layer  \\\n",
       "6        alo:vw_rivm_r97_20170912_lg_rijksweg2016lnight   \n",
       "15     richtlijnstedelijkafvalwater:rsa_kwetsbaargebied   \n",
       "19                v01_2_1_wegennet:Bebouwdekom_wegenwet   \n",
       "36                             ank:d2_aquatische_natuur   \n",
       "43     alo:rivm_20230301_afstand_sportacc_gemeente_2020   \n",
       "...                                                 ...   \n",
       "4158  nwb_wegen_historie_2008:nwb_wegen_hectopunten_...   \n",
       "4168      maximum_snelheden_wegen:max_snelheden_overdag   \n",
       "4184           n01_2_2_natuur_beleid:Ganzenrustgebieden   \n",
       "4187  m01_4_overlast_hinder:Geluidbelasting_Contoure...   \n",
       "4202  n01_2_2_natuur_natuurbeheerplan:Natuurbeheerpl...   \n",
       "\n",
       "                                             bbox_28992 intersects_outline_1  \\\n",
       "6     (62.6354098431475, 299904.60230959, 296110.871...                 True   \n",
       "15    (-235985.32493249525, 273147.7369725155, 43577...                 True   \n",
       "19    (114686.94508030225, 430069.8090139576, 169590...                 True   \n",
       "36    (12714.671780765639, 308707.4330927675, 283699...                 True   \n",
       "43    (12714.671780765639, 308707.4330927675, 283699...                 True   \n",
       "...                                                 ...                  ...   \n",
       "4158  (-5344.194568600709, 299450.29248729965, 28690...                 True   \n",
       "4168  (-5344.194568600709, 299450.29248729965, 28690...                 True   \n",
       "4184  (124664.01356159779, 439530.530817566, 170869....                 True   \n",
       "4187  (115715.16277912405, 438197.9177475136, 171629...                 True   \n",
       "4202  (114202.92885690604, 429853.5218543811, 171588...                 True   \n",
       "\n",
       "     intersects_outline_2                                         keywords_+  \\\n",
       "6                    True  00;2016;23;7;Gezondheid;Veiligheid;aantal;alle...   \n",
       "15                   True  31991L0271;Agglomeraties;Kwetsbaargebied;Lozin...   \n",
       "19                   True  1;2019;BEBOUWDE KOM;Downloadable Data;GRENZEN;...   \n",
       "36                   True  1;2;2005;2007;2n;3;4;5;aan;aanwezig;af;afhanke...   \n",
       "43                   True  aangegeven;afstand;berekening;de;een;en;fitnes...   \n",
       "...                   ...                                                ...   \n",
       "4158                 True  000;01;1;158;2008;2020;Rijkswegen;Vervoersnetw...   \n",
       "4168                 True  00;100;120;130;15;19;20;2017;2022;30;30km;40;5...   \n",
       "4184                 True  1;FAUNA;FAUNABEHEER;FLORA- EN FAUNAWET;GANZEN;...   \n",
       "4187                 True  2014;GELUID;GELUIDHINDER;GELUIDSSCHERMEN;GELUI...   \n",
       "4202                 True  1;2026;4;BOSBEHEER;BOSSEN;Provinciaal beleid;S...   \n",
       "\n",
       "      has_fuzzy_keyword_match  \n",
       "6                        True  \n",
       "15                       True  \n",
       "19                       True  \n",
       "36                       True  \n",
       "43                       True  \n",
       "...                       ...  \n",
       "4158                     True  \n",
       "4168                     True  \n",
       "4184                     True  \n",
       "4187                     True  \n",
       "4202                     True  \n",
       "\n",
       "[502 rows x 31 columns]"
      ]
     },
     "execution_count": 86,
     "metadata": {},
     "output_type": "execute_result"
    }
   ],
   "source": [
    "df_wfs_sf2_cf_clean"
   ]
  },
  {
   "cell_type": "markdown",
   "id": "47fdfc83",
   "metadata": {},
   "source": [
    "**Checkpoint 04:**"
   ]
  },
  {
   "cell_type": "code",
   "execution_count": 87,
   "id": "d3344844",
   "metadata": {},
   "outputs": [],
   "source": [
    "# Saving\n",
    "df_wcs_sf2_cf_clean.to_csv(\"checkpoint04_ngr_WCS_metadata.csv\", index=False)\n",
    "df_wfs_sf2_cf_clean.to_csv(\"checkpoint04_ngr_WFS_metadata.csv\", index=False)"
   ]
  },
  {
   "cell_type": "markdown",
   "id": "8e9ce703",
   "metadata": {},
   "source": [
    "---"
   ]
  },
  {
   "cell_type": "markdown",
   "id": "e5035c21",
   "metadata": {},
   "source": [
    "---"
   ]
  }
 ],
 "metadata": {
  "kernelspec": {
   "display_name": "Python 3 (ipykernel)",
   "language": "python",
   "name": "python3"
  },
  "language_info": {
   "codemirror_mode": {
    "name": "ipython",
    "version": 3
   },
   "file_extension": ".py",
   "mimetype": "text/x-python",
   "name": "python",
   "nbconvert_exporter": "python",
   "pygments_lexer": "ipython3",
   "version": "3.11.9"
  }
 },
 "nbformat": 4,
 "nbformat_minor": 5
}
